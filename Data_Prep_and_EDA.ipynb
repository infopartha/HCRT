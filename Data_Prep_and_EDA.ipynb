{
 "cells": [
  {
   "cell_type": "markdown",
   "metadata": {},
   "source": [
    "<title>Tamil Handwritten Character Recognition</title>\n",
    "\n",
    "# Tamil Handwritten Character Recognition\n",
    "### Data Preparation and EDA on HPL and uTHCD datasets\n"
   ]
  },
  {
   "cell_type": "markdown",
   "metadata": {},
   "source": [
    "---"
   ]
  },
  {
   "cell_type": "markdown",
   "metadata": {},
   "source": [
    "#### Installing required packages"
   ]
  },
  {
   "cell_type": "code",
   "execution_count": null,
   "metadata": {},
   "outputs": [],
   "source": [
    "!pip install pandas==2.2.1\n",
    "!pip install matplotlib==3.8.3\n",
    "!pip install pillow==10.2.0\n",
    "!pip install scipy==1.12.0\n",
    "!pip install scikit-learn==1.2.2\n",
    "!pip install seaborn==0.12.2\n",
    "!pip install tqdm==4.66.2\n",
    "!pip install ipykernel==6.23.1\n",
    "!pip install ipython==8.18.1\n",
    "!pip install ipywidgets==8.0.7\n",
    "!pip install jupyter_client==8.6.0\n",
    "!pip install jupyter_core==5.5.0\n",
    "!pip install kaggle==1.6.11\n",
    "!pip install tensorflow==2.10.0\n",
    "!pip install keras==2.10.0\n",
    "!pip install Keras-Preprocessing==1.1.2"
   ]
  },
  {
   "cell_type": "markdown",
   "metadata": {},
   "source": [
    "---"
   ]
  },
  {
   "cell_type": "code",
   "execution_count": 1,
   "metadata": {},
   "outputs": [],
   "source": [
    "import os\n",
    "import shutil\n",
    "import zipfile\n",
    "import subprocess\n",
    "import pandas as pd\n",
    "import numpy as np\n",
    "import matplotlib.pyplot as plt\n",
    "import seaborn as sns\n",
    "from PIL import Image\n",
    "from tqdm import tqdm"
   ]
  },
  {
   "cell_type": "code",
   "execution_count": 2,
   "metadata": {},
   "outputs": [],
   "source": [
    "%matplotlib inline\n",
    "\n",
    "np.random.seed(42)"
   ]
  },
  {
   "cell_type": "code",
   "execution_count": 4,
   "metadata": {},
   "outputs": [],
   "source": [
    "# If you have your folder setup other than current directory, set that up here\n",
    "root_dir = os.getcwd()\n",
    "\n",
    "os.chdir(root_dir) # To make sure the root_dir as the working directory"
   ]
  },
  {
   "cell_type": "markdown",
   "metadata": {},
   "source": [
    "### Data Extraction"
   ]
  },
  {
   "cell_type": "code",
   "execution_count": 5,
   "metadata": {},
   "outputs": [],
   "source": [
    "kaggle_api_key_path = '.kaggle/'"
   ]
  },
  {
   "cell_type": "code",
   "execution_count": 6,
   "metadata": {},
   "outputs": [],
   "source": [
    "os.environ['KAGGLE_CONFIG_DIR'] = os.path.abspath(kaggle_api_key_path)\n",
    "\n",
    "def get_kaggle_dataset(dataset_name, zipfile_name, extraction_name):\n",
    "    command = f'kaggle datasets download {dataset_name}'\n",
    "    subprocess.run(command, shell=True)\n",
    "    with zipfile.ZipFile(zipfile_name, 'r') as zip_ref:\n",
    "        zip_ref.extractall(extraction_name)\n",
    "    print(f'The {zipfile_name} from {dataset_name} has been downloaded and extracted to {extraction_name}')"
   ]
  },
  {
   "cell_type": "code",
   "execution_count": 7,
   "metadata": {},
   "outputs": [
    {
     "name": "stdout",
     "output_type": "stream",
     "text": [
      "The tamilhandwrittencharacter.zip from seenivasanseeni/tamilhandwrittencharacter has been downloaded and extracted to hpl\n"
     ]
    }
   ],
   "source": [
    "# Getting HPL dataset\n",
    "get_kaggle_dataset('seenivasanseeni/tamilhandwrittencharacter', 'tamilhandwrittencharacter.zip', 'hpl')"
   ]
  },
  {
   "cell_type": "code",
   "execution_count": 9,
   "metadata": {},
   "outputs": [
    {
     "name": "stdout",
     "output_type": "stream",
     "text": [
      "The uthcdtamil-handwritten-database.zip from faizalhajamohideen/uthcdtamil-handwritten-database has been downloaded and extracted to uTHCD\n"
     ]
    }
   ],
   "source": [
    "# Getting uTHCD dataset\n",
    "get_kaggle_dataset('faizalhajamohideen/uthcdtamil-handwritten-database', 'uthcdtamil-handwritten-database.zip', 'uTHCD')"
   ]
  },
  {
   "cell_type": "code",
   "execution_count": 15,
   "metadata": {},
   "outputs": [],
   "source": [
    "metadata_dir = os.path.join(root_dir, 'metadata')\n",
    "hpl_base_dir = os.path.join(root_dir, 'processed', 'hpl')  # HPL dataset\n",
    "uthcd_base_dir = os.path.join(root_dir, 'processed', 'uTHCD')  # uTHCD dataset\n",
    "docs_dir = os.path.join(root_dir, 'scanned_documents') # Directory for the scanned documents\n",
    "\n",
    "for fldr in [metadata_dir, hpl_base_dir, uthcd_base_dir, docs_dir]:\n",
    "    if not os.path.exists(fldr):\n",
    "        os.makedirs(fldr, mode=777)"
   ]
  },
  {
   "cell_type": "markdown",
   "metadata": {},
   "source": [
    "## Data Preparation"
   ]
  },
  {
   "cell_type": "markdown",
   "metadata": {},
   "source": [
    "### HPL"
   ]
  },
  {
   "cell_type": "code",
   "execution_count": 63,
   "metadata": {},
   "outputs": [
    {
     "name": "stdout",
     "output_type": "stream",
     "text": [
      "Data Source directory for HPL:  c:\\Users\\infor\\Documents\\AAIML\\local_repo\\CSCN8010-lab-submissions\\students_submissions\\8883828\\hpl\\tamil_dataset_offline\n"
     ]
    }
   ],
   "source": [
    "data_src_dir = os.path.join(root_dir, 'hpl', 'tamil_dataset_offline')\n",
    "print('Data Source directory for HPL: ', data_src_dir)"
   ]
  },
  {
   "cell_type": "code",
   "execution_count": 64,
   "metadata": {},
   "outputs": [
    {
     "name": "stdout",
     "output_type": "stream",
     "text": [
      "Total: 169\n",
      "Training: 102\n",
      "Validation: 33\n",
      "Testing: 34\n"
     ]
    }
   ],
   "source": [
    "user_list = os.listdir(data_src_dir)\n",
    "test_users = np.random.choice(user_list, int(len(user_list) * 0.4))\n",
    "vaildation_users, test_users = test_users[:len(test_users)//2], test_users[len(test_users)//2:]\n",
    "print(f'Total: {len(user_list)}\\nTraining: {len(user_list) - len(test_users) - len(vaildation_users)}')\n",
    "print(f'Validation: {len(vaildation_users)}\\nTesting: {len(test_users)}')"
   ]
  },
  {
   "cell_type": "markdown",
   "metadata": {},
   "source": [
    "#### Extracting Metadata"
   ]
  },
  {
   "cell_type": "code",
   "execution_count": 65,
   "metadata": {},
   "outputs": [
    {
     "name": "stderr",
     "output_type": "stream",
     "text": [
      "User Folders:  46%|████▌     | 77/169 [03:04<06:39,  4.34s/it]"
     ]
    },
    {
     "name": "stdout",
     "output_type": "stream",
     "text": [
      "Exception occured while processing c:\\Users\\infor\\Documents\\AAIML\\local_repo\\CSCN8010-lab-submissions\\students_submissions\\8883828\\hpl\\tamil_dataset_offline\\usr_174\\t03.tiff\n"
     ]
    },
    {
     "name": "stderr",
     "output_type": "stream",
     "text": [
      "User Folders: 100%|██████████| 169/169 [10:47<00:00,  3.83s/it]\n"
     ]
    },
    {
     "data": {
      "text/html": [
       "<div>\n",
       "<style scoped>\n",
       "    .dataframe tbody tr th:only-of-type {\n",
       "        vertical-align: middle;\n",
       "    }\n",
       "\n",
       "    .dataframe tbody tr th {\n",
       "        vertical-align: top;\n",
       "    }\n",
       "\n",
       "    .dataframe thead th {\n",
       "        text-align: right;\n",
       "    }\n",
       "</style>\n",
       "<table border=\"1\" class=\"dataframe\">\n",
       "  <thead>\n",
       "    <tr style=\"text-align: right;\">\n",
       "      <th></th>\n",
       "      <th>dataset</th>\n",
       "      <th>usr_dir</th>\n",
       "      <th>src_filename</th>\n",
       "      <th>src_width</th>\n",
       "      <th>src_height</th>\n",
       "      <th>filepath</th>\n",
       "      <th>filename</th>\n",
       "      <th>class_idx</th>\n",
       "    </tr>\n",
       "  </thead>\n",
       "  <tbody>\n",
       "    <tr>\n",
       "      <th>0</th>\n",
       "      <td>train</td>\n",
       "      <td>usr_100</td>\n",
       "      <td>c:\\Users\\infor\\Documents\\AAIML\\local_repo\\CSCN...</td>\n",
       "      <td>234</td>\n",
       "      <td>123</td>\n",
       "      <td>c:\\Users\\infor\\Documents\\AAIML\\local_repo\\CSCN...</td>\n",
       "      <td>usr_100_000t01.tiff</td>\n",
       "      <td>0</td>\n",
       "    </tr>\n",
       "    <tr>\n",
       "      <th>1</th>\n",
       "      <td>train</td>\n",
       "      <td>usr_100</td>\n",
       "      <td>c:\\Users\\infor\\Documents\\AAIML\\local_repo\\CSCN...</td>\n",
       "      <td>152</td>\n",
       "      <td>66</td>\n",
       "      <td>c:\\Users\\infor\\Documents\\AAIML\\local_repo\\CSCN...</td>\n",
       "      <td>usr_100_000t02.tiff</td>\n",
       "      <td>0</td>\n",
       "    </tr>\n",
       "    <tr>\n",
       "      <th>2</th>\n",
       "      <td>train</td>\n",
       "      <td>usr_100</td>\n",
       "      <td>c:\\Users\\infor\\Documents\\AAIML\\local_repo\\CSCN...</td>\n",
       "      <td>282</td>\n",
       "      <td>167</td>\n",
       "      <td>c:\\Users\\infor\\Documents\\AAIML\\local_repo\\CSCN...</td>\n",
       "      <td>usr_100_001t01.tiff</td>\n",
       "      <td>1</td>\n",
       "    </tr>\n",
       "    <tr>\n",
       "      <th>3</th>\n",
       "      <td>train</td>\n",
       "      <td>usr_100</td>\n",
       "      <td>c:\\Users\\infor\\Documents\\AAIML\\local_repo\\CSCN...</td>\n",
       "      <td>147</td>\n",
       "      <td>91</td>\n",
       "      <td>c:\\Users\\infor\\Documents\\AAIML\\local_repo\\CSCN...</td>\n",
       "      <td>usr_100_001t02.tiff</td>\n",
       "      <td>1</td>\n",
       "    </tr>\n",
       "    <tr>\n",
       "      <th>4</th>\n",
       "      <td>train</td>\n",
       "      <td>usr_100</td>\n",
       "      <td>c:\\Users\\infor\\Documents\\AAIML\\local_repo\\CSCN...</td>\n",
       "      <td>237</td>\n",
       "      <td>98</td>\n",
       "      <td>c:\\Users\\infor\\Documents\\AAIML\\local_repo\\CSCN...</td>\n",
       "      <td>usr_100_002t01.tiff</td>\n",
       "      <td>2</td>\n",
       "    </tr>\n",
       "    <tr>\n",
       "      <th>...</th>\n",
       "      <td>...</td>\n",
       "      <td>...</td>\n",
       "      <td>...</td>\n",
       "      <td>...</td>\n",
       "      <td>...</td>\n",
       "      <td>...</td>\n",
       "      <td>...</td>\n",
       "      <td>...</td>\n",
       "    </tr>\n",
       "    <tr>\n",
       "      <th>77547</th>\n",
       "      <td>test</td>\n",
       "      <td>usr_54</td>\n",
       "      <td>c:\\Users\\infor\\Documents\\AAIML\\local_repo\\CSCN...</td>\n",
       "      <td>190</td>\n",
       "      <td>150</td>\n",
       "      <td>c:\\Users\\infor\\Documents\\AAIML\\local_repo\\CSCN...</td>\n",
       "      <td>usr_54_153t02.tiff</td>\n",
       "      <td>153</td>\n",
       "    </tr>\n",
       "    <tr>\n",
       "      <th>77548</th>\n",
       "      <td>test</td>\n",
       "      <td>usr_54</td>\n",
       "      <td>c:\\Users\\infor\\Documents\\AAIML\\local_repo\\CSCN...</td>\n",
       "      <td>179</td>\n",
       "      <td>153</td>\n",
       "      <td>c:\\Users\\infor\\Documents\\AAIML\\local_repo\\CSCN...</td>\n",
       "      <td>usr_54_154t01.tiff</td>\n",
       "      <td>154</td>\n",
       "    </tr>\n",
       "    <tr>\n",
       "      <th>77549</th>\n",
       "      <td>test</td>\n",
       "      <td>usr_54</td>\n",
       "      <td>c:\\Users\\infor\\Documents\\AAIML\\local_repo\\CSCN...</td>\n",
       "      <td>193</td>\n",
       "      <td>165</td>\n",
       "      <td>c:\\Users\\infor\\Documents\\AAIML\\local_repo\\CSCN...</td>\n",
       "      <td>usr_54_154t02.tiff</td>\n",
       "      <td>154</td>\n",
       "    </tr>\n",
       "    <tr>\n",
       "      <th>77550</th>\n",
       "      <td>test</td>\n",
       "      <td>usr_54</td>\n",
       "      <td>c:\\Users\\infor\\Documents\\AAIML\\local_repo\\CSCN...</td>\n",
       "      <td>158</td>\n",
       "      <td>106</td>\n",
       "      <td>c:\\Users\\infor\\Documents\\AAIML\\local_repo\\CSCN...</td>\n",
       "      <td>usr_54_155t01.tiff</td>\n",
       "      <td>155</td>\n",
       "    </tr>\n",
       "    <tr>\n",
       "      <th>77551</th>\n",
       "      <td>test</td>\n",
       "      <td>usr_54</td>\n",
       "      <td>c:\\Users\\infor\\Documents\\AAIML\\local_repo\\CSCN...</td>\n",
       "      <td>195</td>\n",
       "      <td>86</td>\n",
       "      <td>c:\\Users\\infor\\Documents\\AAIML\\local_repo\\CSCN...</td>\n",
       "      <td>usr_54_155t02.tiff</td>\n",
       "      <td>155</td>\n",
       "    </tr>\n",
       "  </tbody>\n",
       "</table>\n",
       "<p>77552 rows × 8 columns</p>\n",
       "</div>"
      ],
      "text/plain": [
       "      dataset  usr_dir                                       src_filename  \\\n",
       "0       train  usr_100  c:\\Users\\infor\\Documents\\AAIML\\local_repo\\CSCN...   \n",
       "1       train  usr_100  c:\\Users\\infor\\Documents\\AAIML\\local_repo\\CSCN...   \n",
       "2       train  usr_100  c:\\Users\\infor\\Documents\\AAIML\\local_repo\\CSCN...   \n",
       "3       train  usr_100  c:\\Users\\infor\\Documents\\AAIML\\local_repo\\CSCN...   \n",
       "4       train  usr_100  c:\\Users\\infor\\Documents\\AAIML\\local_repo\\CSCN...   \n",
       "...       ...      ...                                                ...   \n",
       "77547    test   usr_54  c:\\Users\\infor\\Documents\\AAIML\\local_repo\\CSCN...   \n",
       "77548    test   usr_54  c:\\Users\\infor\\Documents\\AAIML\\local_repo\\CSCN...   \n",
       "77549    test   usr_54  c:\\Users\\infor\\Documents\\AAIML\\local_repo\\CSCN...   \n",
       "77550    test   usr_54  c:\\Users\\infor\\Documents\\AAIML\\local_repo\\CSCN...   \n",
       "77551    test   usr_54  c:\\Users\\infor\\Documents\\AAIML\\local_repo\\CSCN...   \n",
       "\n",
       "       src_width  src_height  \\\n",
       "0            234         123   \n",
       "1            152          66   \n",
       "2            282         167   \n",
       "3            147          91   \n",
       "4            237          98   \n",
       "...          ...         ...   \n",
       "77547        190         150   \n",
       "77548        179         153   \n",
       "77549        193         165   \n",
       "77550        158         106   \n",
       "77551        195          86   \n",
       "\n",
       "                                                filepath             filename  \\\n",
       "0      c:\\Users\\infor\\Documents\\AAIML\\local_repo\\CSCN...  usr_100_000t01.tiff   \n",
       "1      c:\\Users\\infor\\Documents\\AAIML\\local_repo\\CSCN...  usr_100_000t02.tiff   \n",
       "2      c:\\Users\\infor\\Documents\\AAIML\\local_repo\\CSCN...  usr_100_001t01.tiff   \n",
       "3      c:\\Users\\infor\\Documents\\AAIML\\local_repo\\CSCN...  usr_100_001t02.tiff   \n",
       "4      c:\\Users\\infor\\Documents\\AAIML\\local_repo\\CSCN...  usr_100_002t01.tiff   \n",
       "...                                                  ...                  ...   \n",
       "77547  c:\\Users\\infor\\Documents\\AAIML\\local_repo\\CSCN...   usr_54_153t02.tiff   \n",
       "77548  c:\\Users\\infor\\Documents\\AAIML\\local_repo\\CSCN...   usr_54_154t01.tiff   \n",
       "77549  c:\\Users\\infor\\Documents\\AAIML\\local_repo\\CSCN...   usr_54_154t02.tiff   \n",
       "77550  c:\\Users\\infor\\Documents\\AAIML\\local_repo\\CSCN...   usr_54_155t01.tiff   \n",
       "77551  c:\\Users\\infor\\Documents\\AAIML\\local_repo\\CSCN...   usr_54_155t02.tiff   \n",
       "\n",
       "       class_idx  \n",
       "0              0  \n",
       "1              0  \n",
       "2              1  \n",
       "3              1  \n",
       "4              2  \n",
       "...          ...  \n",
       "77547        153  \n",
       "77548        154  \n",
       "77549        154  \n",
       "77550        155  \n",
       "77551        155  \n",
       "\n",
       "[77552 rows x 8 columns]"
      ]
     },
     "execution_count": 65,
     "metadata": {},
     "output_type": "execute_result"
    }
   ],
   "source": [
    "meta_data = []\n",
    "for usr_dir in tqdm(os.listdir(data_src_dir), 'User Folders'):\n",
    "    for root, dirs, img_files in os.walk(os.path.join(data_src_dir, usr_dir)):\n",
    "        for img_file in img_files:\n",
    "            try:\n",
    "                src_fullpath = os.path.join(root, img_file)\n",
    "                if not os.path.isfile(src_fullpath) or os.path.splitext(img_file)[-1] != '.tiff':\n",
    "                    continue\n",
    "                class_idx = int(img_file[:3])\n",
    "                src_image = Image.open(src_fullpath)\n",
    "                width, height = src_image.size\n",
    "                dataset = 'test' if usr_dir in test_users else 'validation' if usr_dir in vaildation_users else 'train'\n",
    "                new_filename = usr_dir + '_' + img_file\n",
    "                new_filepath = os.path.join(hpl_base_dir, dataset, str(class_idx))\n",
    "                meta_data.append((dataset, usr_dir, src_fullpath, width, height, new_filepath, new_filename, class_idx))\n",
    "            except Exception as e:\n",
    "                print(f'Exception occured while processing {os.path.join(root, img_file)}')\n",
    "df_meta = pd.DataFrame(meta_data, columns=['dataset', 'usr_dir', 'src_filename', 'src_width', 'src_height', 'filepath', 'filename', 'class_idx'])\n",
    "df_meta"
   ]
  },
  {
   "cell_type": "markdown",
   "metadata": {},
   "source": [
    "#### Finding Outliers"
   ]
  },
  {
   "cell_type": "code",
   "execution_count": 66,
   "metadata": {},
   "outputs": [
    {
     "data": {
      "text/html": [
       "<div>\n",
       "<style scoped>\n",
       "    .dataframe tbody tr th:only-of-type {\n",
       "        vertical-align: middle;\n",
       "    }\n",
       "\n",
       "    .dataframe tbody tr th {\n",
       "        vertical-align: top;\n",
       "    }\n",
       "\n",
       "    .dataframe thead th {\n",
       "        text-align: right;\n",
       "    }\n",
       "</style>\n",
       "<table border=\"1\" class=\"dataframe\">\n",
       "  <thead>\n",
       "    <tr style=\"text-align: right;\">\n",
       "      <th></th>\n",
       "      <th>src_height</th>\n",
       "      <th>src_width</th>\n",
       "    </tr>\n",
       "  </thead>\n",
       "  <tbody>\n",
       "    <tr>\n",
       "      <th>count</th>\n",
       "      <td>77552.000000</td>\n",
       "      <td>77552.000000</td>\n",
       "    </tr>\n",
       "    <tr>\n",
       "      <th>mean</th>\n",
       "      <td>120.478427</td>\n",
       "      <td>141.616438</td>\n",
       "    </tr>\n",
       "    <tr>\n",
       "      <th>std</th>\n",
       "      <td>32.632457</td>\n",
       "      <td>50.609323</td>\n",
       "    </tr>\n",
       "    <tr>\n",
       "      <th>min</th>\n",
       "      <td>32.000000</td>\n",
       "      <td>31.000000</td>\n",
       "    </tr>\n",
       "    <tr>\n",
       "      <th>25%</th>\n",
       "      <td>98.000000</td>\n",
       "      <td>106.000000</td>\n",
       "    </tr>\n",
       "    <tr>\n",
       "      <th>50%</th>\n",
       "      <td>119.000000</td>\n",
       "      <td>133.000000</td>\n",
       "    </tr>\n",
       "    <tr>\n",
       "      <th>75%</th>\n",
       "      <td>141.000000</td>\n",
       "      <td>169.000000</td>\n",
       "    </tr>\n",
       "    <tr>\n",
       "      <th>max</th>\n",
       "      <td>283.000000</td>\n",
       "      <td>655.000000</td>\n",
       "    </tr>\n",
       "  </tbody>\n",
       "</table>\n",
       "</div>"
      ],
      "text/plain": [
       "         src_height     src_width\n",
       "count  77552.000000  77552.000000\n",
       "mean     120.478427    141.616438\n",
       "std       32.632457     50.609323\n",
       "min       32.000000     31.000000\n",
       "25%       98.000000    106.000000\n",
       "50%      119.000000    133.000000\n",
       "75%      141.000000    169.000000\n",
       "max      283.000000    655.000000"
      ]
     },
     "execution_count": 66,
     "metadata": {},
     "output_type": "execute_result"
    }
   ],
   "source": [
    "df_meta[['src_height', 'src_width']].describe()"
   ]
  },
  {
   "cell_type": "code",
   "execution_count": 67,
   "metadata": {},
   "outputs": [
    {
     "data": {
      "image/png": "[encoded data removed]",
      "text/plain": [
       "<Figure size 1000x600 with 2 Axes>"
      ]
     },
     "metadata": {},
     "output_type": "display_data"
    }
   ],
   "source": [
    "fig, axes = plt.subplots(1, 2, figsize=(10, 6))\n",
    "\n",
    "axes[0].boxplot(df_meta['src_width'])\n",
    "axes[0].set_title('Width')\n",
    "axes[1].boxplot(df_meta['src_height'])\n",
    "axes[1].set_title('Height')\n",
    "plt.suptitle('Outlier Detection')\n",
    "plt.show()\n",
    "# df_meta['src_width'].plot(kind='box')"
   ]
  },
  {
   "cell_type": "code",
   "execution_count": 68,
   "metadata": {},
   "outputs": [
    {
     "data": {
      "text/html": [
       "<div>\n",
       "<style scoped>\n",
       "    .dataframe tbody tr th:only-of-type {\n",
       "        vertical-align: middle;\n",
       "    }\n",
       "\n",
       "    .dataframe tbody tr th {\n",
       "        vertical-align: top;\n",
       "    }\n",
       "\n",
       "    .dataframe thead th {\n",
       "        text-align: right;\n",
       "    }\n",
       "</style>\n",
       "<table border=\"1\" class=\"dataframe\">\n",
       "  <thead>\n",
       "    <tr style=\"text-align: right;\">\n",
       "      <th></th>\n",
       "      <th>dataset</th>\n",
       "      <th>usr_dir</th>\n",
       "      <th>src_filename</th>\n",
       "      <th>src_width</th>\n",
       "      <th>src_height</th>\n",
       "      <th>filepath</th>\n",
       "      <th>filename</th>\n",
       "      <th>class_idx</th>\n",
       "    </tr>\n",
       "  </thead>\n",
       "  <tbody>\n",
       "    <tr>\n",
       "      <th>50805</th>\n",
       "      <td>test</td>\n",
       "      <td>usr_26</td>\n",
       "      <td>c:\\Users\\infor\\Documents\\AAIML\\local_repo\\CSCN...</td>\n",
       "      <td>650</td>\n",
       "      <td>132</td>\n",
       "      <td>c:\\Users\\infor\\Documents\\AAIML\\local_repo\\CSCN...</td>\n",
       "      <td>usr_26_014t04.tiff</td>\n",
       "      <td>14</td>\n",
       "    </tr>\n",
       "    <tr>\n",
       "      <th>50811</th>\n",
       "      <td>test</td>\n",
       "      <td>usr_26</td>\n",
       "      <td>c:\\Users\\infor\\Documents\\AAIML\\local_repo\\CSCN...</td>\n",
       "      <td>655</td>\n",
       "      <td>145</td>\n",
       "      <td>c:\\Users\\infor\\Documents\\AAIML\\local_repo\\CSCN...</td>\n",
       "      <td>usr_26_014t10.tiff</td>\n",
       "      <td>14</td>\n",
       "    </tr>\n",
       "  </tbody>\n",
       "</table>\n",
       "</div>"
      ],
      "text/plain": [
       "      dataset usr_dir                                       src_filename  \\\n",
       "50805    test  usr_26  c:\\Users\\infor\\Documents\\AAIML\\local_repo\\CSCN...   \n",
       "50811    test  usr_26  c:\\Users\\infor\\Documents\\AAIML\\local_repo\\CSCN...   \n",
       "\n",
       "       src_width  src_height  \\\n",
       "50805        650         132   \n",
       "50811        655         145   \n",
       "\n",
       "                                                filepath            filename  \\\n",
       "50805  c:\\Users\\infor\\Documents\\AAIML\\local_repo\\CSCN...  usr_26_014t04.tiff   \n",
       "50811  c:\\Users\\infor\\Documents\\AAIML\\local_repo\\CSCN...  usr_26_014t10.tiff   \n",
       "\n",
       "       class_idx  \n",
       "50805         14  \n",
       "50811         14  "
      ]
     },
     "execution_count": 68,
     "metadata": {},
     "output_type": "execute_result"
    }
   ],
   "source": [
    "df_meta[df_meta['src_width'] > 600]"
   ]
  },
  {
   "cell_type": "code",
   "execution_count": 71,
   "metadata": {},
   "outputs": [],
   "source": [
    "for outlier in df_meta[df_meta['src_width'] > 600]['src_filename'].to_list():\n",
    "    Image.open(outlier).show()"
   ]
  },
  {
   "cell_type": "markdown",
   "metadata": {},
   "source": [
    "#### Removing outliers"
   ]
  },
  {
   "cell_type": "code",
   "execution_count": 72,
   "metadata": {},
   "outputs": [],
   "source": [
    "df_meta = df_meta[df_meta['src_width'] < 600]"
   ]
  },
  {
   "cell_type": "code",
   "execution_count": 73,
   "metadata": {},
   "outputs": [
    {
     "data": {
      "text/html": [
       "<div>\n",
       "<style scoped>\n",
       "    .dataframe tbody tr th:only-of-type {\n",
       "        vertical-align: middle;\n",
       "    }\n",
       "\n",
       "    .dataframe tbody tr th {\n",
       "        vertical-align: top;\n",
       "    }\n",
       "\n",
       "    .dataframe thead th {\n",
       "        text-align: right;\n",
       "    }\n",
       "</style>\n",
       "<table border=\"1\" class=\"dataframe\">\n",
       "  <thead>\n",
       "    <tr style=\"text-align: right;\">\n",
       "      <th></th>\n",
       "      <th>src_height</th>\n",
       "      <th>src_width</th>\n",
       "    </tr>\n",
       "  </thead>\n",
       "  <tbody>\n",
       "    <tr>\n",
       "      <th>count</th>\n",
       "      <td>77550.000000</td>\n",
       "      <td>77550.000000</td>\n",
       "    </tr>\n",
       "    <tr>\n",
       "      <th>mean</th>\n",
       "      <td>120.477963</td>\n",
       "      <td>141.603262</td>\n",
       "    </tr>\n",
       "    <tr>\n",
       "      <th>std</th>\n",
       "      <td>32.632732</td>\n",
       "      <td>50.543427</td>\n",
       "    </tr>\n",
       "    <tr>\n",
       "      <th>min</th>\n",
       "      <td>32.000000</td>\n",
       "      <td>31.000000</td>\n",
       "    </tr>\n",
       "    <tr>\n",
       "      <th>25%</th>\n",
       "      <td>98.000000</td>\n",
       "      <td>106.000000</td>\n",
       "    </tr>\n",
       "    <tr>\n",
       "      <th>50%</th>\n",
       "      <td>119.000000</td>\n",
       "      <td>133.000000</td>\n",
       "    </tr>\n",
       "    <tr>\n",
       "      <th>75%</th>\n",
       "      <td>141.000000</td>\n",
       "      <td>169.000000</td>\n",
       "    </tr>\n",
       "    <tr>\n",
       "      <th>max</th>\n",
       "      <td>283.000000</td>\n",
       "      <td>506.000000</td>\n",
       "    </tr>\n",
       "  </tbody>\n",
       "</table>\n",
       "</div>"
      ],
      "text/plain": [
       "         src_height     src_width\n",
       "count  77550.000000  77550.000000\n",
       "mean     120.477963    141.603262\n",
       "std       32.632732     50.543427\n",
       "min       32.000000     31.000000\n",
       "25%       98.000000    106.000000\n",
       "50%      119.000000    133.000000\n",
       "75%      141.000000    169.000000\n",
       "max      283.000000    506.000000"
      ]
     },
     "execution_count": 73,
     "metadata": {},
     "output_type": "execute_result"
    }
   ],
   "source": [
    "df_meta[['src_height', 'src_width']].describe()"
   ]
  },
  {
   "cell_type": "code",
   "execution_count": 74,
   "metadata": {},
   "outputs": [],
   "source": [
    "Image.open(df_meta[df_meta['src_width'] == df_meta['src_width'].max()]['src_filename'].to_list()[0]).show()\n",
    "Image.open(df_meta[df_meta['src_height'] == df_meta['src_height'].max()]['src_filename'].to_list()[0]).show()"
   ]
  },
  {
   "cell_type": "code",
   "execution_count": 83,
   "metadata": {},
   "outputs": [
    {
     "data": {
      "image/jpeg": "[encoded data removed]",
      "image/png": "[encoded data removed]",
      "text/plain": [
       "<PIL.TiffImagePlugin.TiffImageFile image mode=1 size=180x283>"
      ]
     },
     "execution_count": 83,
     "metadata": {},
     "output_type": "execute_result"
    }
   ],
   "source": [
    "Image.open(df_meta[df_meta['src_height'] == df_meta['src_height'].max()]['src_filename'].to_list()[0])"
   ]
  },
  {
   "cell_type": "code",
   "execution_count": 75,
   "metadata": {},
   "outputs": [],
   "source": [
    "Image.open(df_meta[df_meta['src_width'] == df_meta['src_width'].min()]['src_filename'].to_list()[0]).show()\n",
    "Image.open(df_meta[df_meta['src_height'] == df_meta['src_height'].min()]['src_filename'].to_list()[0]).show()"
   ]
  },
  {
   "cell_type": "code",
   "execution_count": 82,
   "metadata": {},
   "outputs": [
    {
     "data": {
      "image/jpeg": "[encoded data removed]",
      "image/png": "[encoded data removed]",
      "text/plain": [
       "<PIL.TiffImagePlugin.TiffImageFile image mode=1 size=115x32>"
      ]
     },
     "execution_count": 82,
     "metadata": {},
     "output_type": "execute_result"
    }
   ],
   "source": [
    "Image.open(df_meta[df_meta['src_height'] == df_meta['src_height'].min()]['src_filename'].to_list()[0])"
   ]
  },
  {
   "cell_type": "code",
   "execution_count": 76,
   "metadata": {},
   "outputs": [
    {
     "name": "stdout",
     "output_type": "stream",
     "text": [
      "Distinct class in \n",
      "full dataset   : 156\n",
      "training set   : 156\n",
      "testing set    : 156\n",
      "validation set : 156\n"
     ]
    }
   ],
   "source": [
    "print('Distinct class in ')\n",
    "print(f\"full dataset   : {df_meta['class_idx'].nunique()}\")\n",
    "print(f\"training set   : {df_meta[df_meta['dataset']=='train']['class_idx'].nunique()}\")\n",
    "print(f\"testing set    : {df_meta[df_meta['dataset']=='test']['class_idx'].nunique()}\")\n",
    "print(f\"validation set : {df_meta[df_meta['dataset']=='validation']['class_idx'].nunique()}\")"
   ]
  },
  {
   "cell_type": "markdown",
   "metadata": {},
   "source": [
    "#### Size Standardization"
   ]
  },
  {
   "cell_type": "code",
   "execution_count": 77,
   "metadata": {},
   "outputs": [
    {
     "data": {
      "text/plain": [
       "(506, 283)"
      ]
     },
     "execution_count": 77,
     "metadata": {},
     "output_type": "execute_result"
    }
   ],
   "source": [
    "df_meta['src_width'].max(), df_meta['src_height'].max()"
   ]
  },
  {
   "cell_type": "code",
   "execution_count": 78,
   "metadata": {},
   "outputs": [],
   "source": [
    "target_size = (512, 288)"
   ]
  },
  {
   "cell_type": "code",
   "execution_count": 79,
   "metadata": {},
   "outputs": [],
   "source": [
    "def image_padding(img_path, target_size):\n",
    "    img_obj = Image.open(img_path)\n",
    "    # img_obj.show()\n",
    "    left_padding = (target_size[0] - img_obj.size[0]) // 2\n",
    "    top_padding = (target_size[1] - img_obj.size[1]) // 2\n",
    "    padded_image = Image.new('RGB', target_size, (255, 255, 255))\n",
    "    padded_image.paste(img_obj, (left_padding, top_padding))\n",
    "    # padded_image.show()\n",
    "    return padded_image"
   ]
  },
  {
   "cell_type": "code",
   "execution_count": 80,
   "metadata": {},
   "outputs": [
    {
     "data": {
      "image/jpeg": "[encoded data removed]",
      "image/png": "[encoded data removed]",
      "text/plain": [
       "<PIL.Image.Image image mode=RGB size=512x288>"
      ]
     },
     "execution_count": 80,
     "metadata": {},
     "output_type": "execute_result"
    }
   ],
   "source": [
    "image_padding(df_meta[df_meta['src_height'] == df_meta['src_height'].max()]['src_filename'].to_list()[0], target_size)"
   ]
  },
  {
   "cell_type": "code",
   "execution_count": 84,
   "metadata": {},
   "outputs": [
    {
     "data": {
      "image/jpeg": "[encoded data removed]",
      "image/png": "[encoded data removed]",
      "text/plain": [
       "<PIL.Image.Image image mode=RGB size=512x288>"
      ]
     },
     "execution_count": 84,
     "metadata": {},
     "output_type": "execute_result"
    }
   ],
   "source": [
    "image_padding(df_meta[df_meta['src_height'] == df_meta['src_height'].min()]['src_filename'].to_list()[0], target_size)"
   ]
  },
  {
   "cell_type": "markdown",
   "metadata": {},
   "source": [
    "#### Reorganize images"
   ]
  },
  {
   "cell_type": "code",
   "execution_count": 87,
   "metadata": {},
   "outputs": [],
   "source": [
    "if os.path.exists(hpl_base_dir):\n",
    "    try:\n",
    "        shutil.rmtree(hpl_base_dir)\n",
    "    except Exception as e:\n",
    "        print(e)\n",
    "os.makedirs(hpl_base_dir)\n",
    "\n",
    "for subdir in df_meta['filepath'].unique():\n",
    "    os.makedirs(subdir)"
   ]
  },
  {
   "cell_type": "code",
   "execution_count": 88,
   "metadata": {},
   "outputs": [
    {
     "name": "stderr",
     "output_type": "stream",
     "text": [
      "100%|██████████| 77550/77550 [07:36<00:00, 169.74it/s]\n"
     ]
    }
   ],
   "source": [
    "for i, row in tqdm(df_meta.iterrows(), total=df_meta.shape[0]):\n",
    "    img_obj = Image.open(row['src_filename']).convert('L')  # Convert to grayscale\n",
    "    # img_obj.show()\n",
    "    \n",
    "    left_padding = (target_size[0] - img_obj.size[0]) // 2\n",
    "    top_padding = (target_size[1] - img_obj.size[1]) // 2\n",
    "    \n",
    "    padded_image = Image.new('L', target_size, 255)  # 'L' mode for grayscale\n",
    "    padded_image.paste(img_obj, (left_padding, top_padding))\n",
    "    \n",
    "    padded_image.save(os.path.join(row['filepath'], row['filename']))\n"
   ]
  },
  {
   "cell_type": "code",
   "execution_count": 89,
   "metadata": {},
   "outputs": [],
   "source": [
    "df_meta.to_csv(os.path.join(metadata_dir, 'hpl_metadata.csv'), index=False)"
   ]
  },
  {
   "cell_type": "markdown",
   "metadata": {},
   "source": [
    "---"
   ]
  },
  {
   "cell_type": "markdown",
   "metadata": {},
   "source": [
    "### uTHCD"
   ]
  },
  {
   "cell_type": "code",
   "execution_count": 11,
   "metadata": {},
   "outputs": [
    {
     "name": "stdout",
     "output_type": "stream",
     "text": [
      "c:\\Users\\infor\\Documents\\AAIML\\local_repo\\CSCN8010-lab-submissions\\students_submissions\\8883828\\THCR\\uTHCD\\uTHCD_d(90-10-split)\\90-10-split\n"
     ]
    }
   ],
   "source": [
    "print(os.path.join(root_dir, 'uTHCD', 'uTHCD_d(90-10-split)', '90-10-split'))"
   ]
  },
  {
   "cell_type": "code",
   "execution_count": 12,
   "metadata": {},
   "outputs": [],
   "source": [
    "data_src_dir = os.path.join(root_dir, 'uTHCD', 'uTHCD_d(90-10-split)', '90-10-split')\n",
    "# data_dir = os.path.join(root_dir, 'processed', 'uTCHCD')\n",
    "\n",
    "# os.listdir to list directories for 'train' and 'test' based on your 90/10 split\n",
    "train_user_list = os.listdir(os.path.join(data_src_dir, 'train'))\n",
    "test_user_list = os.listdir(os.path.join(data_src_dir, 'test'))"
   ]
  },
  {
   "cell_type": "code",
   "execution_count": 51,
   "metadata": {},
   "outputs": [
    {
     "name": "stdout",
     "output_type": "stream",
     "text": [
      "Total: 90950\n",
      "Training: 81900\n",
      "Validation: 2262\n",
      "Testing: 2263\n"
     ]
    }
   ],
   "source": [
    "# the test set is already provided, you wouldn't normally split it further,\n",
    "# but here's how you could if you needed to create a validation set from the test set.\n",
    "test_users = np.random.choice(test_user_list, int(len(test_user_list) * 0.5))\n",
    "validation_users, test_users = test_users[:len(test_users)//2], test_users[len(test_users)//2:]\n",
    "\n",
    "print(f'Total: {len(train_user_list) + len(test_user_list)}')\n",
    "print(f'Training: {len(train_user_list)}')\n",
    "print(f'Validation: {len(validation_users)}')\n",
    "print(f'Testing: {len(test_users)}')"
   ]
  },
  {
   "cell_type": "code",
   "execution_count": 13,
   "metadata": {},
   "outputs": [
    {
     "name": "stderr",
     "output_type": "stream",
     "text": [
      "Processing train images:   0%|          | 0/81900 [00:00<?, ?it/s]"
     ]
    },
    {
     "name": "stderr",
     "output_type": "stream",
     "text": [
      "Processing train images: 100%|██████████| 81900/81900 [10:27<00:00, 130.62it/s]\n",
      "Processing test images: 100%|██████████| 9050/9050 [00:51<00:00, 176.53it/s]\n"
     ]
    }
   ],
   "source": [
    "# Directories for the uTHCD dataset\n",
    "train_dir = os.path.join(data_src_dir, 'train')\n",
    "test_dir = os.path.join(data_src_dir, 'test')\n",
    "\n",
    "# Empty list to store metadata\n",
    "meta_data = []\n",
    "\n",
    "# Function to process images and extract metadata\n",
    "def process_images(image_directory, dataset_type):\n",
    "    for img_file in tqdm(os.listdir(image_directory), f'Processing {dataset_type} images'):\n",
    "        try:\n",
    "            src_fullpath = os.path.join(image_directory, img_file)\n",
    "            if not os.path.isfile(src_fullpath) or os.path.splitext(img_file)[-1] != '.bmp':\n",
    "                continue\n",
    "            class_idx = int(img_file.split('_')[1].split('.')[0])  # Assumes filename format is `number_class.bmp`\n",
    "            src_image = Image.open(src_fullpath)\n",
    "            width, height = src_image.size\n",
    "            dataset = dataset_type\n",
    "            new_filename = img_file\n",
    "            new_filepath = os.path.join(image_directory, img_file)  # This could be a processed folder path if needed\n",
    "            meta_data.append((dataset, src_fullpath, width, height, new_filepath, new_filename, class_idx))\n",
    "        except Exception as e:\n",
    "            print(f'Exception occurred while processing {src_fullpath}: {e}')\n",
    "\n",
    "# Process train and test images\n",
    "process_images(train_dir, 'train')\n",
    "process_images(test_dir, 'test')\n",
    "\n",
    "# Create DataFrame from the metadata list\n",
    "df_meta = pd.DataFrame(meta_data, columns=['dataset', 'src_filename', 'src_width', 'src_height', 'filepath', 'filename', 'class_idx'])"
   ]
  },
  {
   "cell_type": "code",
   "execution_count": 16,
   "metadata": {},
   "outputs": [],
   "source": [
    "# Save DataFrame to a CSV file\n",
    "df_meta.to_csv(os.path.join(metadata_dir, 'uTHCD_metadata.csv'), index=False)"
   ]
  },
  {
   "cell_type": "code",
   "execution_count": 17,
   "metadata": {},
   "outputs": [
    {
     "data": {
      "text/html": [
       "<div>\n",
       "<style scoped>\n",
       "    .dataframe tbody tr th:only-of-type {\n",
       "        vertical-align: middle;\n",
       "    }\n",
       "\n",
       "    .dataframe tbody tr th {\n",
       "        vertical-align: top;\n",
       "    }\n",
       "\n",
       "    .dataframe thead th {\n",
       "        text-align: right;\n",
       "    }\n",
       "</style>\n",
       "<table border=\"1\" class=\"dataframe\">\n",
       "  <thead>\n",
       "    <tr style=\"text-align: right;\">\n",
       "      <th></th>\n",
       "      <th>src_height</th>\n",
       "      <th>src_width</th>\n",
       "    </tr>\n",
       "  </thead>\n",
       "  <tbody>\n",
       "    <tr>\n",
       "      <th>count</th>\n",
       "      <td>90950.0</td>\n",
       "      <td>90950.0</td>\n",
       "    </tr>\n",
       "    <tr>\n",
       "      <th>mean</th>\n",
       "      <td>64.0</td>\n",
       "      <td>64.0</td>\n",
       "    </tr>\n",
       "    <tr>\n",
       "      <th>std</th>\n",
       "      <td>0.0</td>\n",
       "      <td>0.0</td>\n",
       "    </tr>\n",
       "    <tr>\n",
       "      <th>min</th>\n",
       "      <td>64.0</td>\n",
       "      <td>64.0</td>\n",
       "    </tr>\n",
       "    <tr>\n",
       "      <th>25%</th>\n",
       "      <td>64.0</td>\n",
       "      <td>64.0</td>\n",
       "    </tr>\n",
       "    <tr>\n",
       "      <th>50%</th>\n",
       "      <td>64.0</td>\n",
       "      <td>64.0</td>\n",
       "    </tr>\n",
       "    <tr>\n",
       "      <th>75%</th>\n",
       "      <td>64.0</td>\n",
       "      <td>64.0</td>\n",
       "    </tr>\n",
       "    <tr>\n",
       "      <th>max</th>\n",
       "      <td>64.0</td>\n",
       "      <td>64.0</td>\n",
       "    </tr>\n",
       "  </tbody>\n",
       "</table>\n",
       "</div>"
      ],
      "text/plain": [
       "       src_height  src_width\n",
       "count     90950.0    90950.0\n",
       "mean         64.0       64.0\n",
       "std           0.0        0.0\n",
       "min          64.0       64.0\n",
       "25%          64.0       64.0\n",
       "50%          64.0       64.0\n",
       "75%          64.0       64.0\n",
       "max          64.0       64.0"
      ]
     },
     "execution_count": 17,
     "metadata": {},
     "output_type": "execute_result"
    }
   ],
   "source": [
    "df_meta[['src_height', 'src_width']].describe()"
   ]
  },
  {
   "cell_type": "code",
   "execution_count": 18,
   "metadata": {},
   "outputs": [
    {
     "name": "stdout",
     "output_type": "stream",
     "text": [
      "Distinct class in \n",
      "full dataset   : 156\n",
      "training set   : 156\n",
      "testing set    : 156\n",
      "validation set : 0\n"
     ]
    }
   ],
   "source": [
    "print('Distinct class in ')\n",
    "print(f\"full dataset   : {df_meta['class_idx'].nunique()}\")\n",
    "print(f\"training set   : {df_meta[df_meta['dataset']=='train']['class_idx'].nunique()}\")\n",
    "print(f\"testing set    : {df_meta[df_meta['dataset']=='test']['class_idx'].nunique()}\")\n",
    "print(f\"validation set : {df_meta[df_meta['dataset']=='validation']['class_idx'].nunique()}\")"
   ]
  },
  {
   "cell_type": "code",
   "execution_count": 20,
   "metadata": {},
   "outputs": [
    {
     "name": "stderr",
     "output_type": "stream",
     "text": [
      "100%|██████████| 90950/90950 [01:40<00:00, 904.89it/s] \n"
     ]
    }
   ],
   "source": [
    "from sklearn.model_selection import train_test_split\n",
    "\n",
    "validation_split = 0.15\n",
    "\n",
    "df_train = df_meta[df_meta['dataset'] == 'train']\n",
    "train_idxs, val_idxs = train_test_split(df_train.index, test_size=validation_split, stratify=df_train['class_idx'])\n",
    "\n",
    "df_meta.loc[val_idxs, 'dataset'] = 'validation'\n",
    "\n",
    "\n",
    "for index, row in tqdm(df_meta.iterrows(), total=df_meta.shape[0]):\n",
    "    # Open the image\n",
    "    image = Image.open(row['src_filename']).convert('L')  # Convert to grayscale\n",
    "    \n",
    "    # Determine the dataset folder based on the 'dataset' column\n",
    "    dataset_folder = row['dataset']\n",
    "\n",
    "    # Construct the directory path based on dataset and class_idx within data_dir\n",
    "    class_dir = os.path.join(uthcd_base_dir, dataset_folder, str(row['class_idx']))\n",
    "    os.makedirs(class_dir, exist_ok=True)  # Create the directory if it doesn't exist\n",
    "\n",
    "    # Construct the full path for the new image\n",
    "    save_path = os.path.join(class_dir, row['filename'])\n",
    "\n",
    "    # Save the image\n",
    "    image.save(save_path)"
   ]
  },
  {
   "cell_type": "code",
   "execution_count": 21,
   "metadata": {},
   "outputs": [
    {
     "data": {
      "text/plain": [
       "dataset\n",
       "train         69615\n",
       "validation    12285\n",
       "test           9050\n",
       "Name: count, dtype: int64"
      ]
     },
     "execution_count": 21,
     "metadata": {},
     "output_type": "execute_result"
    }
   ],
   "source": [
    "df_meta['dataset'].value_counts()"
   ]
  },
  {
   "cell_type": "code",
   "execution_count": 22,
   "metadata": {},
   "outputs": [
    {
     "name": "stdout",
     "output_type": "stream",
     "text": [
      "Distinct class in \n",
      "full dataset   : 156\n",
      "training set   : 156\n",
      "testing set    : 156\n",
      "validation set : 156\n"
     ]
    }
   ],
   "source": [
    "print('Distinct class in ')\n",
    "print(f\"full dataset   : {df_meta['class_idx'].nunique()}\")\n",
    "print(f\"training set   : {df_meta[df_meta['dataset']=='train']['class_idx'].nunique()}\")\n",
    "print(f\"testing set    : {df_meta[df_meta['dataset']=='test']['class_idx'].nunique()}\")\n",
    "print(f\"validation set : {df_meta[df_meta['dataset']=='validation']['class_idx'].nunique()}\")"
   ]
  },
  {
   "cell_type": "code",
   "execution_count": 19,
   "metadata": {},
   "outputs": [
    {
     "name": "stderr",
     "output_type": "stream",
     "text": [
      "100%|██████████| 90950/90950 [01:30<00:00, 1002.50it/s]\n"
     ]
    }
   ],
   "source": [
    "validation_split = 0.2\n",
    "\n",
    "for index, row in tqdm(df_meta.iterrows(), total=df_meta.shape[0]):\n",
    "    # Open the image\n",
    "    image = Image.open(row['src_filename']).convert('L')  # Convert to grayscale\n",
    "\n",
    "    # Check if this row should go into the validation set instead of its current dataset designation\n",
    "    if row['dataset'] == 'train':\n",
    "        # Use index to decide if this should be part of validation instead\n",
    "        if index < df_meta.shape[0] * validation_split:\n",
    "            dataset_folder = 'validation'\n",
    "        else:\n",
    "            dataset_folder = 'train'\n",
    "    else:\n",
    "        dataset_folder = row['dataset']\n",
    "\n",
    "    # Construct the directory path based on dataset and class_idx within data_dir\n",
    "    class_dir = os.path.join(uthcd_base_dir, dataset_folder, str(row['class_idx']))\n",
    "    os.makedirs(class_dir, exist_ok=True)  # Create the directory if it doesn't exist\n",
    "\n",
    "    # Construct the full path for the new image\n",
    "    save_path = os.path.join(class_dir, row['filename'])\n",
    "\n",
    "    # Save the image\n",
    "    image.save(save_path)"
   ]
  },
  {
   "cell_type": "markdown",
   "metadata": {},
   "source": [
    "---"
   ]
  },
  {
   "cell_type": "markdown",
   "metadata": {},
   "source": [
    "## EDA"
   ]
  },
  {
   "cell_type": "code",
   "execution_count": 90,
   "metadata": {},
   "outputs": [],
   "source": [
    "hpl_metadata = pd.read_csv(os.path.join(metadata_dir, 'hpl_metadata.csv'))\n",
    "utchd_metadata = pd.read_csv(os.path.join(metadata_dir, 'uTHCD_metadata.csv'))"
   ]
  },
  {
   "cell_type": "markdown",
   "metadata": {},
   "source": [
    "### Data Overview"
   ]
  },
  {
   "cell_type": "code",
   "execution_count": 91,
   "metadata": {},
   "outputs": [
    {
     "name": "stdout",
     "output_type": "stream",
     "text": [
      "<class 'pandas.core.frame.DataFrame'>\n",
      "RangeIndex: 77550 entries, 0 to 77549\n",
      "Data columns (total 8 columns):\n",
      " #   Column        Non-Null Count  Dtype \n",
      "---  ------        --------------  ----- \n",
      " 0   dataset       77550 non-null  object\n",
      " 1   usr_dir       77550 non-null  object\n",
      " 2   src_filename  77550 non-null  object\n",
      " 3   src_width     77550 non-null  int64 \n",
      " 4   src_height    77550 non-null  int64 \n",
      " 5   filepath      77550 non-null  object\n",
      " 6   filename      77550 non-null  object\n",
      " 7   class_idx     77550 non-null  int64 \n",
      "dtypes: int64(3), object(5)\n",
      "memory usage: 4.7+ MB\n",
      "None\n"
     ]
    },
    {
     "data": {
      "text/html": [
       "<div>\n",
       "<style scoped>\n",
       "    .dataframe tbody tr th:only-of-type {\n",
       "        vertical-align: middle;\n",
       "    }\n",
       "\n",
       "    .dataframe tbody tr th {\n",
       "        vertical-align: top;\n",
       "    }\n",
       "\n",
       "    .dataframe thead th {\n",
       "        text-align: right;\n",
       "    }\n",
       "</style>\n",
       "<table border=\"1\" class=\"dataframe\">\n",
       "  <thead>\n",
       "    <tr style=\"text-align: right;\">\n",
       "      <th></th>\n",
       "      <th>dataset</th>\n",
       "      <th>usr_dir</th>\n",
       "      <th>src_filename</th>\n",
       "      <th>src_width</th>\n",
       "      <th>src_height</th>\n",
       "      <th>filepath</th>\n",
       "      <th>filename</th>\n",
       "      <th>class_idx</th>\n",
       "    </tr>\n",
       "  </thead>\n",
       "  <tbody>\n",
       "    <tr>\n",
       "      <th>0</th>\n",
       "      <td>train</td>\n",
       "      <td>usr_100</td>\n",
       "      <td>c:\\Users\\infor\\Documents\\AAIML\\local_repo\\CSCN...</td>\n",
       "      <td>234</td>\n",
       "      <td>123</td>\n",
       "      <td>c:\\Users\\infor\\Documents\\AAIML\\local_repo\\CSCN...</td>\n",
       "      <td>usr_100_000t01.tiff</td>\n",
       "      <td>0</td>\n",
       "    </tr>\n",
       "    <tr>\n",
       "      <th>1</th>\n",
       "      <td>train</td>\n",
       "      <td>usr_100</td>\n",
       "      <td>c:\\Users\\infor\\Documents\\AAIML\\local_repo\\CSCN...</td>\n",
       "      <td>152</td>\n",
       "      <td>66</td>\n",
       "      <td>c:\\Users\\infor\\Documents\\AAIML\\local_repo\\CSCN...</td>\n",
       "      <td>usr_100_000t02.tiff</td>\n",
       "      <td>0</td>\n",
       "    </tr>\n",
       "    <tr>\n",
       "      <th>2</th>\n",
       "      <td>train</td>\n",
       "      <td>usr_100</td>\n",
       "      <td>c:\\Users\\infor\\Documents\\AAIML\\local_repo\\CSCN...</td>\n",
       "      <td>282</td>\n",
       "      <td>167</td>\n",
       "      <td>c:\\Users\\infor\\Documents\\AAIML\\local_repo\\CSCN...</td>\n",
       "      <td>usr_100_001t01.tiff</td>\n",
       "      <td>1</td>\n",
       "    </tr>\n",
       "    <tr>\n",
       "      <th>3</th>\n",
       "      <td>train</td>\n",
       "      <td>usr_100</td>\n",
       "      <td>c:\\Users\\infor\\Documents\\AAIML\\local_repo\\CSCN...</td>\n",
       "      <td>147</td>\n",
       "      <td>91</td>\n",
       "      <td>c:\\Users\\infor\\Documents\\AAIML\\local_repo\\CSCN...</td>\n",
       "      <td>usr_100_001t02.tiff</td>\n",
       "      <td>1</td>\n",
       "    </tr>\n",
       "    <tr>\n",
       "      <th>4</th>\n",
       "      <td>train</td>\n",
       "      <td>usr_100</td>\n",
       "      <td>c:\\Users\\infor\\Documents\\AAIML\\local_repo\\CSCN...</td>\n",
       "      <td>237</td>\n",
       "      <td>98</td>\n",
       "      <td>c:\\Users\\infor\\Documents\\AAIML\\local_repo\\CSCN...</td>\n",
       "      <td>usr_100_002t01.tiff</td>\n",
       "      <td>2</td>\n",
       "    </tr>\n",
       "  </tbody>\n",
       "</table>\n",
       "</div>"
      ],
      "text/plain": [
       "  dataset  usr_dir                                       src_filename  \\\n",
       "0   train  usr_100  c:\\Users\\infor\\Documents\\AAIML\\local_repo\\CSCN...   \n",
       "1   train  usr_100  c:\\Users\\infor\\Documents\\AAIML\\local_repo\\CSCN...   \n",
       "2   train  usr_100  c:\\Users\\infor\\Documents\\AAIML\\local_repo\\CSCN...   \n",
       "3   train  usr_100  c:\\Users\\infor\\Documents\\AAIML\\local_repo\\CSCN...   \n",
       "4   train  usr_100  c:\\Users\\infor\\Documents\\AAIML\\local_repo\\CSCN...   \n",
       "\n",
       "   src_width  src_height                                           filepath  \\\n",
       "0        234         123  c:\\Users\\infor\\Documents\\AAIML\\local_repo\\CSCN...   \n",
       "1        152          66  c:\\Users\\infor\\Documents\\AAIML\\local_repo\\CSCN...   \n",
       "2        282         167  c:\\Users\\infor\\Documents\\AAIML\\local_repo\\CSCN...   \n",
       "3        147          91  c:\\Users\\infor\\Documents\\AAIML\\local_repo\\CSCN...   \n",
       "4        237          98  c:\\Users\\infor\\Documents\\AAIML\\local_repo\\CSCN...   \n",
       "\n",
       "              filename  class_idx  \n",
       "0  usr_100_000t01.tiff          0  \n",
       "1  usr_100_000t02.tiff          0  \n",
       "2  usr_100_001t01.tiff          1  \n",
       "3  usr_100_001t02.tiff          1  \n",
       "4  usr_100_002t01.tiff          2  "
      ]
     },
     "execution_count": 91,
     "metadata": {},
     "output_type": "execute_result"
    }
   ],
   "source": [
    "print(hpl_metadata.info())\n",
    "hpl_metadata.head()"
   ]
  },
  {
   "cell_type": "code",
   "execution_count": 92,
   "metadata": {},
   "outputs": [
    {
     "name": "stdout",
     "output_type": "stream",
     "text": [
      "<class 'pandas.core.frame.DataFrame'>\n",
      "RangeIndex: 90950 entries, 0 to 90949\n",
      "Data columns (total 7 columns):\n",
      " #   Column        Non-Null Count  Dtype \n",
      "---  ------        --------------  ----- \n",
      " 0   dataset       90950 non-null  object\n",
      " 1   src_filename  90950 non-null  object\n",
      " 2   src_width     90950 non-null  int64 \n",
      " 3   src_height    90950 non-null  int64 \n",
      " 4   filepath      90950 non-null  object\n",
      " 5   filename      90950 non-null  object\n",
      " 6   class_idx     90950 non-null  int64 \n",
      "dtypes: int64(3), object(4)\n",
      "memory usage: 4.9+ MB\n",
      "None\n"
     ]
    },
    {
     "data": {
      "text/html": [
       "<div>\n",
       "<style scoped>\n",
       "    .dataframe tbody tr th:only-of-type {\n",
       "        vertical-align: middle;\n",
       "    }\n",
       "\n",
       "    .dataframe tbody tr th {\n",
       "        vertical-align: top;\n",
       "    }\n",
       "\n",
       "    .dataframe thead th {\n",
       "        text-align: right;\n",
       "    }\n",
       "</style>\n",
       "<table border=\"1\" class=\"dataframe\">\n",
       "  <thead>\n",
       "    <tr style=\"text-align: right;\">\n",
       "      <th></th>\n",
       "      <th>dataset</th>\n",
       "      <th>src_filename</th>\n",
       "      <th>src_width</th>\n",
       "      <th>src_height</th>\n",
       "      <th>filepath</th>\n",
       "      <th>filename</th>\n",
       "      <th>class_idx</th>\n",
       "    </tr>\n",
       "  </thead>\n",
       "  <tbody>\n",
       "    <tr>\n",
       "      <th>0</th>\n",
       "      <td>train</td>\n",
       "      <td>c:\\Users\\infor\\Documents\\AAIML\\local_repo\\CSCN...</td>\n",
       "      <td>64</td>\n",
       "      <td>64</td>\n",
       "      <td>c:\\Users\\infor\\Documents\\AAIML\\local_repo\\CSCN...</td>\n",
       "      <td>0004_000.bmp</td>\n",
       "      <td>0</td>\n",
       "    </tr>\n",
       "    <tr>\n",
       "      <th>1</th>\n",
       "      <td>train</td>\n",
       "      <td>c:\\Users\\infor\\Documents\\AAIML\\local_repo\\CSCN...</td>\n",
       "      <td>64</td>\n",
       "      <td>64</td>\n",
       "      <td>c:\\Users\\infor\\Documents\\AAIML\\local_repo\\CSCN...</td>\n",
       "      <td>0004_081.bmp</td>\n",
       "      <td>81</td>\n",
       "    </tr>\n",
       "    <tr>\n",
       "      <th>2</th>\n",
       "      <td>train</td>\n",
       "      <td>c:\\Users\\infor\\Documents\\AAIML\\local_repo\\CSCN...</td>\n",
       "      <td>64</td>\n",
       "      <td>64</td>\n",
       "      <td>c:\\Users\\infor\\Documents\\AAIML\\local_repo\\CSCN...</td>\n",
       "      <td>0004_082.bmp</td>\n",
       "      <td>82</td>\n",
       "    </tr>\n",
       "    <tr>\n",
       "      <th>3</th>\n",
       "      <td>train</td>\n",
       "      <td>c:\\Users\\infor\\Documents\\AAIML\\local_repo\\CSCN...</td>\n",
       "      <td>64</td>\n",
       "      <td>64</td>\n",
       "      <td>c:\\Users\\infor\\Documents\\AAIML\\local_repo\\CSCN...</td>\n",
       "      <td>0004_083.bmp</td>\n",
       "      <td>83</td>\n",
       "    </tr>\n",
       "    <tr>\n",
       "      <th>4</th>\n",
       "      <td>train</td>\n",
       "      <td>c:\\Users\\infor\\Documents\\AAIML\\local_repo\\CSCN...</td>\n",
       "      <td>64</td>\n",
       "      <td>64</td>\n",
       "      <td>c:\\Users\\infor\\Documents\\AAIML\\local_repo\\CSCN...</td>\n",
       "      <td>0004_084.bmp</td>\n",
       "      <td>84</td>\n",
       "    </tr>\n",
       "  </tbody>\n",
       "</table>\n",
       "</div>"
      ],
      "text/plain": [
       "  dataset                                       src_filename  src_width  \\\n",
       "0   train  c:\\Users\\infor\\Documents\\AAIML\\local_repo\\CSCN...         64   \n",
       "1   train  c:\\Users\\infor\\Documents\\AAIML\\local_repo\\CSCN...         64   \n",
       "2   train  c:\\Users\\infor\\Documents\\AAIML\\local_repo\\CSCN...         64   \n",
       "3   train  c:\\Users\\infor\\Documents\\AAIML\\local_repo\\CSCN...         64   \n",
       "4   train  c:\\Users\\infor\\Documents\\AAIML\\local_repo\\CSCN...         64   \n",
       "\n",
       "   src_height                                           filepath  \\\n",
       "0          64  c:\\Users\\infor\\Documents\\AAIML\\local_repo\\CSCN...   \n",
       "1          64  c:\\Users\\infor\\Documents\\AAIML\\local_repo\\CSCN...   \n",
       "2          64  c:\\Users\\infor\\Documents\\AAIML\\local_repo\\CSCN...   \n",
       "3          64  c:\\Users\\infor\\Documents\\AAIML\\local_repo\\CSCN...   \n",
       "4          64  c:\\Users\\infor\\Documents\\AAIML\\local_repo\\CSCN...   \n",
       "\n",
       "       filename  class_idx  \n",
       "0  0004_000.bmp          0  \n",
       "1  0004_081.bmp         81  \n",
       "2  0004_082.bmp         82  \n",
       "3  0004_083.bmp         83  \n",
       "4  0004_084.bmp         84  "
      ]
     },
     "execution_count": 92,
     "metadata": {},
     "output_type": "execute_result"
    }
   ],
   "source": [
    "print(utchd_metadata.info())\n",
    "utchd_metadata.head()"
   ]
  },
  {
   "cell_type": "markdown",
   "metadata": {},
   "source": [
    "For the HPL dataset:\n",
    "\n",
    "The dataset contains 77,552 entries, each with 8 features.\n",
    "There are no null values, which indicates that the dataset is complete without any missing entries.\n",
    "The data types are appropriate for the type of data, with int64 for numerical values like width, height, and class index, and object for strings.\n",
    "The src_width and src_height columns provide information about the dimensions of the images, and class_idx is a numerical label for the class.\n",
    "The filepath and filename contain the file paths and file names, respectively, indicating the location of images on the disk."
   ]
  },
  {
   "cell_type": "markdown",
   "metadata": {},
   "source": [
    "For the uTHCD dataset:\n",
    "\n",
    "There are more entries in the uTHCD dataset (90,950) compared to the HPL dataset.\n",
    "The structure of the data is similar to that of the HPL dataset with one less column; it does not have a usr_dir which suggests that this dataset may not be segmented by user or writer of the characters, unlike HPL.\n",
    "Image dimensions are consistent (src_width and src_height are both 64), which might indicate preprocessed image sizes are standardized.\n",
    "No missing values are reported, which simplifies the preprocessing step as no imputation is required.\n",
    "The class indices are the same between both datasets, suggesting that they classify similar characters or classes.\n",
    "Commentary on Data Consistency and Quality:\n",
    "\n",
    "Both datasets are clean and well-structured, with no missing entries, which is ideal for building machine learning models.\n",
    "The consistent image sizes in uTHCD suggest that less preprocessing might be required compared to the HPL dataset where image sizes vary.\n",
    "The absence of usr_dir in the uTHCD might mean the EDA and subsequent models cannot account for individual writer variations, which could be a factor in handwriting recognition tasks.\n",
    "Next Steps for EDA:\n",
    "\n",
    "Next lets visualize "
   ]
  },
  {
   "cell_type": "markdown",
   "metadata": {},
   "source": [
    "### Class Distribution\n"
   ]
  },
  {
   "cell_type": "code",
   "execution_count": 93,
   "metadata": {},
   "outputs": [
    {
     "data": {
      "image/png": "[encoded data removed]",
      "text/plain": [
       "<Figure size 2400x800 with 1 Axes>"
      ]
     },
     "metadata": {},
     "output_type": "display_data"
    }
   ],
   "source": [
    "plt.figure(figsize=(24, 8))\n",
    "sns.countplot(data=hpl_metadata, x='class_idx', order = hpl_metadata['class_idx'].value_counts().index)\n",
    "plt.xticks(rotation=90)\n",
    "plt.title('Distribution of Classes in HPL Dataset')\n",
    "plt.show()"
   ]
  },
  {
   "cell_type": "code",
   "execution_count": 94,
   "metadata": {},
   "outputs": [
    {
     "data": {
      "image/png": "[encoded data removed]",
      "text/plain": [
       "<Figure size 2400x800 with 1 Axes>"
      ]
     },
     "metadata": {},
     "output_type": "display_data"
    }
   ],
   "source": [
    "# Plot the distribution of classes for uTHCD dataset\n",
    "plt.figure(figsize=(24, 8))\n",
    "sns.countplot(data=utchd_metadata, x='class_idx', order = utchd_metadata['class_idx'].value_counts().index)\n",
    "plt.xticks(rotation=90)\n",
    "plt.title('Distribution of Classes in uTHCD Dataset')\n",
    "plt.show()"
   ]
  },
  {
   "cell_type": "markdown",
   "metadata": {},
   "source": [
    "It's clear from these visuals that both datasets exhibit some variance in class representation; some classes have more samples than others. This kind of imbalance can affect the performance of machine learning models, as they might become biased towards classes with more samples."
   ]
  },
  {
   "cell_type": "markdown",
   "metadata": {},
   "source": [
    "It's also good to note that both datasets appear to cover a broad range of classes quite extensively, which is beneficial for building a robust model."
   ]
  },
  {
   "cell_type": "markdown",
   "metadata": {},
   "source": [
    "### Image Size Distribution"
   ]
  },
  {
   "cell_type": "code",
   "execution_count": 95,
   "metadata": {},
   "outputs": [
    {
     "data": {
      "image/png": "[encoded data removed]",
      "text/plain": [
       "<Figure size 1000x500 with 1 Axes>"
      ]
     },
     "metadata": {},
     "output_type": "display_data"
    }
   ],
   "source": [
    "plt.figure(figsize=(10, 5))\n",
    "plt.scatter(hpl_metadata['src_width'], hpl_metadata['src_height'], alpha=0.5)\n",
    "plt.title('Image Size Distribution in HPL Dataset')\n",
    "plt.xlabel('Width')\n",
    "plt.ylabel('Height')\n",
    "plt.show()"
   ]
  },
  {
   "cell_type": "code",
   "execution_count": 96,
   "metadata": {},
   "outputs": [
    {
     "data": {
      "image/png": "[encoded data removed]",
      "text/plain": [
       "<Figure size 1000x500 with 1 Axes>"
      ]
     },
     "metadata": {},
     "output_type": "display_data"
    }
   ],
   "source": [
    "plt.figure(figsize=(10, 5))\n",
    "plt.scatter(utchd_metadata['src_width'], utchd_metadata['src_height'], alpha=0.5)\n",
    "plt.title('Image Size Distribution in uTHCD Dataset')\n",
    "plt.xlabel('Width')\n",
    "plt.ylabel('Height')\n",
    "plt.show()"
   ]
  },
  {
   "cell_type": "markdown",
   "metadata": {},
   "source": [
    "We can notice that the images in HPL dataset have different size dimensions wheras the uTHCD dataset images are of same size (64,64)"
   ]
  },
  {
   "cell_type": "markdown",
   "metadata": {},
   "source": [
    "### Common Classes"
   ]
  },
  {
   "cell_type": "code",
   "execution_count": 97,
   "metadata": {},
   "outputs": [
    {
     "name": "stdout",
     "output_type": "stream",
     "text": [
      "Common classes: {0, 1, 2, 3, 4, 5, 6, 7, 8, 9, 10, 11, 12, 13, 14, 15, 16, 17, 18, 19, 20, 21, 22, 23, 24, 25, 26, 27, 28, 29, 30, 31, 32, 33, 34, 35, 36, 37, 38, 39, 40, 41, 42, 43, 44, 45, 46, 47, 48, 49, 50, 51, 52, 53, 54, 55, 56, 57, 58, 59, 60, 61, 62, 63, 64, 65, 66, 67, 68, 69, 70, 71, 72, 73, 74, 75, 76, 77, 78, 79, 80, 81, 82, 83, 84, 85, 86, 87, 88, 89, 90, 91, 92, 93, 94, 95, 96, 97, 98, 99, 100, 101, 102, 103, 104, 105, 106, 107, 108, 109, 110, 111, 112, 113, 114, 115, 116, 117, 118, 119, 120, 121, 122, 123, 124, 125, 126, 127, 128, 129, 130, 131, 132, 133, 134, 135, 136, 137, 138, 139, 140, 141, 142, 143, 144, 145, 146, 147, 148, 149, 150, 151, 152, 153, 154, 155}\n",
      "Unique to HPL: set()\n",
      "Unique to uTHCD: set()\n"
     ]
    }
   ],
   "source": [
    "# Assuming 'class_idx' is the column indicating the class/letter\n",
    "unique_classes_hpl = set(hpl_metadata['class_idx'].unique())\n",
    "unique_classes_utchd = set(utchd_metadata['class_idx'].unique())\n",
    "\n",
    "common_classes = unique_classes_hpl.intersection(unique_classes_utchd)\n",
    "unique_to_hpl = unique_classes_hpl.difference(unique_classes_utchd)\n",
    "unique_to_utchd = unique_classes_utchd.difference(unique_classes_hpl)\n",
    "\n",
    "print(\"Common classes:\", common_classes)\n",
    "print(\"Unique to HPL:\", unique_to_hpl)\n",
    "print(\"Unique to uTHCD:\", unique_to_utchd)\n"
   ]
  },
  {
   "cell_type": "markdown",
   "metadata": {},
   "source": [
    "Both the Datasets have common classes because they have 156 characters which represents each class"
   ]
  },
  {
   "cell_type": "markdown",
   "metadata": {},
   "source": [
    "### Sample images"
   ]
  },
  {
   "cell_type": "code",
   "execution_count": 98,
   "metadata": {},
   "outputs": [],
   "source": [
    "import random\n",
    "from PIL import Image\n",
    "from IPython.display import display\n",
    "\n",
    "def display_sample_images(df, n_classes=5):\n",
    "    # Randomly select n_classes classes from the dataset\n",
    "    selected_classes = random.sample(sorted(df['class_idx'].unique()), n_classes)\n",
    "    \n",
    "    for class_idx in selected_classes:\n",
    "        # Sample one image from each selected class\n",
    "        sample_image = df[df['class_idx'] == class_idx].sample(n=1)\n",
    "        print(f\"Class {class_idx}:\")\n",
    "        for _, row in sample_image.iterrows():\n",
    "            img = Image.open(row['src_filename'])\n",
    "            display(img)\n"
   ]
  },
  {
   "cell_type": "code",
   "execution_count": 99,
   "metadata": {},
   "outputs": [
    {
     "name": "stdout",
     "output_type": "stream",
     "text": [
      "Sample images from HPL Dataset:\n",
      "Class 89:\n"
     ]
    },
    {
     "data": {
      "image/jpeg": "[encoded data removed]",
      "image/png": "[encoded data removed]",
      "text/plain": [
       "<PIL.TiffImagePlugin.TiffImageFile image mode=1 size=54x70>"
      ]
     },
     "metadata": {},
     "output_type": "display_data"
    },
    {
     "name": "stdout",
     "output_type": "stream",
     "text": [
      "Class 101:\n"
     ]
    },
    {
     "data": {
      "image/jpeg": "[encoded data removed]",
      "image/png": "[encoded data removed]",
      "text/plain": [
       "<PIL.TiffImagePlugin.TiffImageFile image mode=1 size=116x123>"
      ]
     },
     "metadata": {},
     "output_type": "display_data"
    },
    {
     "name": "stdout",
     "output_type": "stream",
     "text": [
      "Class 13:\n"
     ]
    },
    {
     "data": {
      "image/jpeg": "[encoded data removed]",
      "image/png": "[encoded data removed]",
      "text/plain": [
       "<PIL.TiffImagePlugin.TiffImageFile image mode=1 size=130x120>"
      ]
     },
     "metadata": {},
     "output_type": "display_data"
    },
    {
     "name": "stdout",
     "output_type": "stream",
     "text": [
      "Class 66:\n"
     ]
    },
    {
     "data": {
      "image/jpeg": "[encoded data removed]",
      "image/png": "[encoded data removed]",
      "text/plain": [
       "<PIL.TiffImagePlugin.TiffImageFile image mode=1 size=92x111>"
      ]
     },
     "metadata": {},
     "output_type": "display_data"
    },
    {
     "name": "stdout",
     "output_type": "stream",
     "text": [
      "Class 99:\n"
     ]
    },
    {
     "data": {
      "image/jpeg": "[encoded data removed]",
      "image/png": "[encoded data removed]",
      "text/plain": [
       "<PIL.TiffImagePlugin.TiffImageFile image mode=1 size=189x103>"
      ]
     },
     "metadata": {},
     "output_type": "display_data"
    }
   ],
   "source": [
    "print(\"Sample images from HPL Dataset:\")\n",
    "display_sample_images(hpl_metadata)"
   ]
  },
  {
   "cell_type": "code",
   "execution_count": 100,
   "metadata": {},
   "outputs": [
    {
     "name": "stdout",
     "output_type": "stream",
     "text": [
      "Sample images from uTHCD Dataset:\n",
      "Class 147:\n"
     ]
    },
    {
     "data": {
      "image/jpeg": "[encoded data removed]",
      "image/png": "[encoded data removed]",
      "text/plain": [
       "<PIL.BmpImagePlugin.BmpImageFile image mode=1 size=64x64>"
      ]
     },
     "metadata": {},
     "output_type": "display_data"
    },
    {
     "name": "stdout",
     "output_type": "stream",
     "text": [
      "Class 77:\n"
     ]
    },
    {
     "data": {
      "image/jpeg": "[encoded data removed]",
      "image/png": "[encoded data removed]",
      "text/plain": [
       "<PIL.BmpImagePlugin.BmpImageFile image mode=1 size=64x64>"
      ]
     },
     "metadata": {},
     "output_type": "display_data"
    },
    {
     "name": "stdout",
     "output_type": "stream",
     "text": [
      "Class 11:\n"
     ]
    },
    {
     "data": {
      "image/jpeg": "[encoded data removed]",
      "image/png": "[encoded data removed]",
      "text/plain": [
       "<PIL.BmpImagePlugin.BmpImageFile image mode=1 size=64x64>"
      ]
     },
     "metadata": {},
     "output_type": "display_data"
    },
    {
     "name": "stdout",
     "output_type": "stream",
     "text": [
      "Class 152:\n"
     ]
    },
    {
     "data": {
      "image/jpeg": "[encoded data removed]",
      "image/png": "[encoded data removed]",
      "text/plain": [
       "<PIL.BmpImagePlugin.BmpImageFile image mode=1 size=64x64>"
      ]
     },
     "metadata": {},
     "output_type": "display_data"
    },
    {
     "name": "stdout",
     "output_type": "stream",
     "text": [
      "Class 81:\n"
     ]
    },
    {
     "data": {
      "image/jpeg": "[encoded data removed]",
      "image/png": "[encoded data removed]",
      "text/plain": [
       "<PIL.BmpImagePlugin.BmpImageFile image mode=1 size=64x64>"
      ]
     },
     "metadata": {},
     "output_type": "display_data"
    }
   ],
   "source": [
    "print(\"Sample images from uTHCD Dataset:\")\n",
    "display_sample_images(utchd_metadata)"
   ]
  },
  {
   "cell_type": "markdown",
   "metadata": {},
   "source": [
    "These sample images confirm the different sizes and show 1 image from random 5 classes"
   ]
  },
  {
   "cell_type": "markdown",
   "metadata": {},
   "source": [
    "### Splitting datasets into Train, Test, and Valid"
   ]
  },
  {
   "cell_type": "code",
   "execution_count": 103,
   "metadata": {},
   "outputs": [],
   "source": [
    "def get_processed_metadata(base_dir, dataset_name, output_dir):\n",
    "    categories = ['train', 'test', 'valid']\n",
    "    data = []\n",
    "\n",
    "    # Loop through each category (train, test, valid)\n",
    "    for category in categories:\n",
    "        category_dir = os.path.join(base_dir, category)\n",
    "        # If the category directory exists\n",
    "        if not os.path.isdir(category_dir):\n",
    "            continue\n",
    "        # Loop through each class directory\n",
    "        for class_dir in os.listdir(category_dir):\n",
    "            class_dir_path = os.path.join(category_dir, class_dir)\n",
    "            # Check if it's a directory\n",
    "            if not os.path.isdir(class_dir_path):\n",
    "                continue\n",
    "            # List all image files in the directory\n",
    "            for image_file in os.listdir(class_dir_path):\n",
    "                if image_file.lower().endswith(('.png', '.jpg', '.jpeg', '.bmp', '.tiff', '.tif')):\n",
    "                    # Construct full image file path\n",
    "                    image_file_path = os.path.join(class_dir_path, image_file)\n",
    "                    # Append to data list\n",
    "                    data.append([dataset_name, category, class_dir, image_file_path])\n",
    "\n",
    "    # Create a DataFrame\n",
    "    df = pd.DataFrame(data, columns=['Dataset', 'Category', 'Class', 'FilePath'])\n",
    "    \n",
    "    return df"
   ]
  },
  {
   "cell_type": "code",
   "execution_count": 104,
   "metadata": {},
   "outputs": [],
   "source": [
    "hpl_metadata_processed = get_processed_metadata(hpl_base_dir, 'hpl', metadata_dir)\n",
    "utchd_metadata_processed = get_processed_metadata(uthcd_base_dir, 'uthcd', metadata_dir)"
   ]
  },
  {
   "cell_type": "markdown",
   "metadata": {},
   "source": [
    "#### Data Overview"
   ]
  },
  {
   "cell_type": "code",
   "execution_count": 105,
   "metadata": {},
   "outputs": [
    {
     "name": "stdout",
     "output_type": "stream",
     "text": [
      "<class 'pandas.core.frame.DataFrame'>\n",
      "RangeIndex: 59607 entries, 0 to 59606\n",
      "Data columns (total 4 columns):\n",
      " #   Column    Non-Null Count  Dtype \n",
      "---  ------    --------------  ----- \n",
      " 0   Dataset   59607 non-null  object\n",
      " 1   Category  59607 non-null  object\n",
      " 2   Class     59607 non-null  object\n",
      " 3   FilePath  59607 non-null  object\n",
      "dtypes: object(4)\n",
      "memory usage: 1.8+ MB\n",
      "None\n"
     ]
    },
    {
     "data": {
      "text/html": [
       "<div>\n",
       "<style scoped>\n",
       "    .dataframe tbody tr th:only-of-type {\n",
       "        vertical-align: middle;\n",
       "    }\n",
       "\n",
       "    .dataframe tbody tr th {\n",
       "        vertical-align: top;\n",
       "    }\n",
       "\n",
       "    .dataframe thead th {\n",
       "        text-align: right;\n",
       "    }\n",
       "</style>\n",
       "<table border=\"1\" class=\"dataframe\">\n",
       "  <thead>\n",
       "    <tr style=\"text-align: right;\">\n",
       "      <th></th>\n",
       "      <th>Dataset</th>\n",
       "      <th>Category</th>\n",
       "      <th>Class</th>\n",
       "      <th>FilePath</th>\n",
       "    </tr>\n",
       "  </thead>\n",
       "  <tbody>\n",
       "    <tr>\n",
       "      <th>0</th>\n",
       "      <td>hpl</td>\n",
       "      <td>train</td>\n",
       "      <td>0</td>\n",
       "      <td>c:\\Users\\infor\\Documents\\AAIML\\local_repo\\CSCN...</td>\n",
       "    </tr>\n",
       "    <tr>\n",
       "      <th>1</th>\n",
       "      <td>hpl</td>\n",
       "      <td>train</td>\n",
       "      <td>0</td>\n",
       "      <td>c:\\Users\\infor\\Documents\\AAIML\\local_repo\\CSCN...</td>\n",
       "    </tr>\n",
       "    <tr>\n",
       "      <th>2</th>\n",
       "      <td>hpl</td>\n",
       "      <td>train</td>\n",
       "      <td>0</td>\n",
       "      <td>c:\\Users\\infor\\Documents\\AAIML\\local_repo\\CSCN...</td>\n",
       "    </tr>\n",
       "    <tr>\n",
       "      <th>3</th>\n",
       "      <td>hpl</td>\n",
       "      <td>train</td>\n",
       "      <td>0</td>\n",
       "      <td>c:\\Users\\infor\\Documents\\AAIML\\local_repo\\CSCN...</td>\n",
       "    </tr>\n",
       "    <tr>\n",
       "      <th>4</th>\n",
       "      <td>hpl</td>\n",
       "      <td>train</td>\n",
       "      <td>0</td>\n",
       "      <td>c:\\Users\\infor\\Documents\\AAIML\\local_repo\\CSCN...</td>\n",
       "    </tr>\n",
       "  </tbody>\n",
       "</table>\n",
       "</div>"
      ],
      "text/plain": [
       "  Dataset Category Class                                           FilePath\n",
       "0     hpl    train     0  c:\\Users\\infor\\Documents\\AAIML\\local_repo\\CSCN...\n",
       "1     hpl    train     0  c:\\Users\\infor\\Documents\\AAIML\\local_repo\\CSCN...\n",
       "2     hpl    train     0  c:\\Users\\infor\\Documents\\AAIML\\local_repo\\CSCN...\n",
       "3     hpl    train     0  c:\\Users\\infor\\Documents\\AAIML\\local_repo\\CSCN...\n",
       "4     hpl    train     0  c:\\Users\\infor\\Documents\\AAIML\\local_repo\\CSCN..."
      ]
     },
     "execution_count": 105,
     "metadata": {},
     "output_type": "execute_result"
    }
   ],
   "source": [
    "print(hpl_metadata_processed.info())\n",
    "hpl_metadata_processed.head()"
   ]
  },
  {
   "cell_type": "code",
   "execution_count": 106,
   "metadata": {},
   "outputs": [
    {
     "name": "stdout",
     "output_type": "stream",
     "text": [
      "<class 'pandas.core.frame.DataFrame'>\n",
      "RangeIndex: 72760 entries, 0 to 72759\n",
      "Data columns (total 4 columns):\n",
      " #   Column    Non-Null Count  Dtype \n",
      "---  ------    --------------  ----- \n",
      " 0   Dataset   72760 non-null  object\n",
      " 1   Category  72760 non-null  object\n",
      " 2   Class     72760 non-null  object\n",
      " 3   FilePath  72760 non-null  object\n",
      "dtypes: object(4)\n",
      "memory usage: 2.2+ MB\n",
      "None\n"
     ]
    },
    {
     "data": {
      "text/html": [
       "<div>\n",
       "<style scoped>\n",
       "    .dataframe tbody tr th:only-of-type {\n",
       "        vertical-align: middle;\n",
       "    }\n",
       "\n",
       "    .dataframe tbody tr th {\n",
       "        vertical-align: top;\n",
       "    }\n",
       "\n",
       "    .dataframe thead th {\n",
       "        text-align: right;\n",
       "    }\n",
       "</style>\n",
       "<table border=\"1\" class=\"dataframe\">\n",
       "  <thead>\n",
       "    <tr style=\"text-align: right;\">\n",
       "      <th></th>\n",
       "      <th>Dataset</th>\n",
       "      <th>Category</th>\n",
       "      <th>Class</th>\n",
       "      <th>FilePath</th>\n",
       "    </tr>\n",
       "  </thead>\n",
       "  <tbody>\n",
       "    <tr>\n",
       "      <th>0</th>\n",
       "      <td>uthcd</td>\n",
       "      <td>train</td>\n",
       "      <td>0</td>\n",
       "      <td>c:\\Users\\infor\\Documents\\AAIML\\local_repo\\CSCN...</td>\n",
       "    </tr>\n",
       "    <tr>\n",
       "      <th>1</th>\n",
       "      <td>uthcd</td>\n",
       "      <td>train</td>\n",
       "      <td>0</td>\n",
       "      <td>c:\\Users\\infor\\Documents\\AAIML\\local_repo\\CSCN...</td>\n",
       "    </tr>\n",
       "    <tr>\n",
       "      <th>2</th>\n",
       "      <td>uthcd</td>\n",
       "      <td>train</td>\n",
       "      <td>0</td>\n",
       "      <td>c:\\Users\\infor\\Documents\\AAIML\\local_repo\\CSCN...</td>\n",
       "    </tr>\n",
       "    <tr>\n",
       "      <th>3</th>\n",
       "      <td>uthcd</td>\n",
       "      <td>train</td>\n",
       "      <td>0</td>\n",
       "      <td>c:\\Users\\infor\\Documents\\AAIML\\local_repo\\CSCN...</td>\n",
       "    </tr>\n",
       "    <tr>\n",
       "      <th>4</th>\n",
       "      <td>uthcd</td>\n",
       "      <td>train</td>\n",
       "      <td>0</td>\n",
       "      <td>c:\\Users\\infor\\Documents\\AAIML\\local_repo\\CSCN...</td>\n",
       "    </tr>\n",
       "  </tbody>\n",
       "</table>\n",
       "</div>"
      ],
      "text/plain": [
       "  Dataset Category Class                                           FilePath\n",
       "0   uthcd    train     0  c:\\Users\\infor\\Documents\\AAIML\\local_repo\\CSCN...\n",
       "1   uthcd    train     0  c:\\Users\\infor\\Documents\\AAIML\\local_repo\\CSCN...\n",
       "2   uthcd    train     0  c:\\Users\\infor\\Documents\\AAIML\\local_repo\\CSCN...\n",
       "3   uthcd    train     0  c:\\Users\\infor\\Documents\\AAIML\\local_repo\\CSCN...\n",
       "4   uthcd    train     0  c:\\Users\\infor\\Documents\\AAIML\\local_repo\\CSCN..."
      ]
     },
     "execution_count": 106,
     "metadata": {},
     "output_type": "execute_result"
    }
   ],
   "source": [
    "print(utchd_metadata_processed.info())\n",
    "utchd_metadata_processed.head()"
   ]
  },
  {
   "cell_type": "markdown",
   "metadata": {},
   "source": [
    "**Data Size and Completeness:**\n",
    "\n",
    "The HPL dataset contains 67,859 entries, while the uTHCD dataset contains 90,845 entries. Both datasets are complete with no null values, indicating good data completeness and integrity.\n",
    "\n",
    "**Structure and Consistency:**\n",
    "\n",
    "Both datasets share a consistent structure with four columns, which should facilitate comparison and combination if needed. The columns are 'Dataset' (denoting the source dataset), 'Category' (likely representing train/test/validation splits), 'Class' (the label for each image), and 'FilePath' (the location of the image file).\n",
    "\n",
    "**Data Types:**\n",
    "\n",
    "The data types are appropriate for the contents of each column, with categorical data represented as 'object' (string) type and numerical labels as 'int64'. This suggests that the data is ready for use in typical machine learning workflows without the need for type conversion.\n",
    "\n",
    "**Class Labels:**\n",
    "\n",
    "The 'Class' column in both datasets indicates that classes are encoded as integers, which is standard for classification tasks. Ensure that the class indices correspond correctly to the class labels across both datasets.\n",
    "\n",
    "**File Paths:**\n",
    "\n",
    "The 'FilePath' entries point to where the processed images are stored. These paths will be essential for loading images during model training or analysis. The paths look to be absolute paths on my local machine, which is fine for personal use but would need modification for sharing or deploying the model.\n",
    "\n"
   ]
  },
  {
   "cell_type": "markdown",
   "metadata": {},
   "source": [
    "#### Mising Values"
   ]
  },
  {
   "cell_type": "code",
   "execution_count": 108,
   "metadata": {},
   "outputs": [
    {
     "data": {
      "text/plain": [
       "Dataset     0\n",
       "Category    0\n",
       "Class       0\n",
       "FilePath    0\n",
       "dtype: int64"
      ]
     },
     "execution_count": 108,
     "metadata": {},
     "output_type": "execute_result"
    }
   ],
   "source": [
    "hpl_metadata_processed.isnull().sum()"
   ]
  },
  {
   "cell_type": "code",
   "execution_count": 109,
   "metadata": {},
   "outputs": [
    {
     "data": {
      "text/plain": [
       "Dataset     0\n",
       "Category    0\n",
       "Class       0\n",
       "FilePath    0\n",
       "dtype: int64"
      ]
     },
     "execution_count": 109,
     "metadata": {},
     "output_type": "execute_result"
    }
   ],
   "source": [
    "utchd_metadata_processed.isnull().sum()"
   ]
  },
  {
   "cell_type": "markdown",
   "metadata": {},
   "source": [
    "There are no missing values"
   ]
  },
  {
   "cell_type": "markdown",
   "metadata": {},
   "source": [
    "Both the datasets have been preprocessed to be in the same IMAGE DIMENSIONS: 512 X 288"
   ]
  },
  {
   "cell_type": "markdown",
   "metadata": {},
   "source": [
    "#### Sample Images"
   ]
  },
  {
   "cell_type": "code",
   "execution_count": 110,
   "metadata": {},
   "outputs": [],
   "source": [
    "def display_sample_images(df, n=5):\n",
    "    sample_files = df['FilePath'].sample(n)\n",
    "    plt.figure(figsize=(15, 15))\n",
    "    for i, file in enumerate(sample_files):\n",
    "        img = Image.open(file)\n",
    "        plt.subplot(1, n, i + 1)\n",
    "        plt.imshow(img)\n",
    "        plt.axis('off')\n",
    "    plt.show()"
   ]
  },
  {
   "cell_type": "code",
   "execution_count": 111,
   "metadata": {},
   "outputs": [
    {
     "data": {
      "image/png": "[encoded data removed]",
      "text/plain": [
       "<Figure size 1500x1500 with 5 Axes>"
      ]
     },
     "metadata": {},
     "output_type": "display_data"
    }
   ],
   "source": [
    "# Display sample images from HPL dataset\n",
    "display_sample_images(hpl_metadata_processed)"
   ]
  },
  {
   "cell_type": "code",
   "execution_count": 112,
   "metadata": {},
   "outputs": [
    {
     "data": {
      "image/png": "[encoded data removed]",
      "text/plain": [
       "<Figure size 1500x1500 with 5 Axes>"
      ]
     },
     "metadata": {},
     "output_type": "display_data"
    }
   ],
   "source": [
    "# Display sample images from uTHCD dataset\n",
    "display_sample_images(utchd_metadata_processed)"
   ]
  },
  {
   "cell_type": "markdown",
   "metadata": {},
   "source": [
    "The preprocessing includes a step to change to greyscale from RGB which has included a yellow background on the uTHCD dataset which needs to be corrected"
   ]
  },
  {
   "cell_type": "markdown",
   "metadata": {},
   "source": [
    "---"
   ]
  },
  {
   "cell_type": "markdown",
   "metadata": {},
   "source": [
    "### Hypothesis Testing"
   ]
  },
  {
   "cell_type": "markdown",
   "metadata": {},
   "source": [
    "#### Chi-Squared"
   ]
  },
  {
   "cell_type": "code",
   "execution_count": 119,
   "metadata": {},
   "outputs": [
    {
     "name": "stdout",
     "output_type": "stream",
     "text": [
      "Chi2 statistic: 602.6669643698726, p-value: 4.8778506239235254e-54\n",
      "There is a significant difference between the class distributions in the two datasets.\n"
     ]
    }
   ],
   "source": [
    "from scipy.stats import chi2_contingency\n",
    "\n",
    "# Get the counts of each class for both datasets\n",
    "hpl_counts = hpl_metadata_processed['Class'].value_counts().sort_index()\n",
    "utchd_counts = utchd_metadata_processed['Class'].value_counts().sort_index()\n",
    "\n",
    "# Create the contingency table as a DataFrame\n",
    "contingency_table = pd.DataFrame({\n",
    "    'HPL': hpl_counts,\n",
    "    'uTHCD': utchd_counts\n",
    "})\n",
    "\n",
    "# Perform the chi-square test\n",
    "chi2, p, dof, expected = chi2_contingency(contingency_table)\n",
    "\n",
    "print(f\"Chi2 statistic: {chi2}, p-value: {p}\")\n",
    "\n",
    "# Interpret the results\n",
    "if p < 0.05:\n",
    "    print(\"There is a significant difference between the class distributions in the two datasets.\")\n",
    "else:\n",
    "    print(\"No significant difference between the class distributions in the two datasets.\")\n"
   ]
  },
  {
   "cell_type": "markdown",
   "metadata": {},
   "source": [
    "#### Paired t-test"
   ]
  },
  {
   "cell_type": "code",
   "execution_count": 131,
   "metadata": {},
   "outputs": [],
   "source": [
    "# The time taken (in mins) for transcribing 4 documents manually\n",
    "manual_time = np.array([180, 240, 250, 300])\n",
    "\n",
    "# The time taken (in mins) for scanning the documents and transcribing using HCRT model\n",
    "# Since the complete model is not yet ready, these timings are given by guess.\n",
    "model_time = np.array([3, 2.1, 2.8, 3.1])"
   ]
  },
  {
   "cell_type": "code",
   "execution_count": 133,
   "metadata": {},
   "outputs": [
    {
     "name": "stdout",
     "output_type": "stream",
     "text": [
      "T-Statistic:\t9.745471981518408\n",
      "P-Value:\t0.002295305035604119\n"
     ]
    }
   ],
   "source": [
    "from scipy.stats import ttest_rel\n",
    "\n",
    "t_stat, p_value = ttest_rel(manual_time, model_time)\n",
    "\n",
    "print(f'T-Statistic:\\t{t_stat}')\n",
    "print(f'P-Value:\\t{p_value}')"
   ]
  },
  {
   "cell_type": "code",
   "execution_count": 134,
   "metadata": {},
   "outputs": [
    {
     "name": "stdout",
     "output_type": "stream",
     "text": [
      "Null hypothesis is rejected.\n",
      "The HCRT model significantly reduces the transcription time.\n"
     ]
    }
   ],
   "source": [
    "if p_value < 0.05:\n",
    "    print('Null hypothesis is rejected.\\nThe HCRT model significantly reduces the transcription time.')\n",
    "else:\n",
    "    print('Unable to reject the Null hypothesis.\\nThe HCRT model does not significantly reduce the transcription time.')"
   ]
  },
  {
   "cell_type": "markdown",
   "metadata": {},
   "source": [
    "---"
   ]
  }
 ],
 "metadata": {
  "kernelspec": {
   "display_name": "tf",
   "language": "python",
   "name": "python3"
  },
  "language_info": {
   "codemirror_mode": {
    "name": "ipython",
    "version": 3
   },
   "file_extension": ".py",
   "mimetype": "text/x-python",
   "name": "python",
   "nbconvert_exporter": "python",
   "pygments_lexer": "ipython3",
   "version": "3.10.0"
  }
 },
 "nbformat": 4,
 "nbformat_minor": 2
}
