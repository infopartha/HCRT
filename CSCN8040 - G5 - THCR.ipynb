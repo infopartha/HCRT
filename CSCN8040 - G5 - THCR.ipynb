{
 "cells": [
  {
   "cell_type": "markdown",
   "metadata": {},
   "source": [
    "<title>Tamil Handwritten Character Recognition</title>\n",
    "\n",
    "# Tamil Handwritten Character Recognition"
   ]
  },
  {
   "cell_type": "code",
   "execution_count": 2,
   "metadata": {},
   "outputs": [],
   "source": [
    "import os\n",
    "import shutil\n",
    "import pandas as pd\n",
    "import numpy as np\n",
    "import matplotlib.pyplot as plt\n",
    "from IPython.display import display\n",
    "from PIL import Image\n",
    "from tqdm import tqdm"
   ]
  },
  {
   "cell_type": "code",
   "execution_count": 3,
   "metadata": {},
   "outputs": [],
   "source": [
    "%matplotlib inline\n",
    "\n",
    "np.random.seed(42)"
   ]
  },
  {
   "cell_type": "markdown",
   "metadata": {},
   "source": [
    "---"
   ]
  },
  {
   "cell_type": "markdown",
   "metadata": {},
   "source": [
    "## Model Building"
   ]
  },
  {
   "cell_type": "code",
   "execution_count": 3,
   "metadata": {},
   "outputs": [],
   "source": [
    "os.environ['TF_CPP_MIN_LOG_LEVEL'] = '3'"
   ]
  },
  {
   "cell_type": "code",
   "execution_count": 7,
   "metadata": {},
   "outputs": [],
   "source": [
    "from tensorflow import keras\n",
    "from tensorflow.keras import layers\n",
    "from tensorflow.keras import initializers\n",
    "from tensorflow.keras.utils import image_dataset_from_directory\n",
    "from tensorflow.keras.preprocessing.image import load_img, img_to_array, ImageDataGenerator\n",
    "from sklearn.metrics import confusion_matrix, ConfusionMatrixDisplay, classification_report, precision_recall_curve\n",
    "\n",
    "from datetime import datetime"
   ]
  },
  {
   "cell_type": "code",
   "execution_count": 11,
   "metadata": {},
   "outputs": [],
   "source": [
    "target_size = (64, 64)"
   ]
  },
  {
   "cell_type": "markdown",
   "metadata": {},
   "source": [
    "### Image Extraction"
   ]
  },
  {
   "cell_type": "code",
   "execution_count": 8,
   "metadata": {},
   "outputs": [],
   "source": [
    "data_dir = os.path.join('processed', 'uTHCD')\n",
    "\n",
    "train_data_dir = os.path.join(data_dir, 'train')\n",
    "test_data_dir = os.path.join(data_dir, 'test')\n",
    "valid_data_dir = os.path.join(data_dir, 'validation')"
   ]
  },
  {
   "cell_type": "code",
   "execution_count": 12,
   "metadata": {},
   "outputs": [
    {
     "name": "stdout",
     "output_type": "stream",
     "text": [
      "For Training dataset from processed\\uTHCD\\train: Found 63710 images belonging to 156 classes.\n",
      "For Testing dataset from processed\\uTHCD\\validation: Found 18190 images belonging to 155 classes.\n",
      "For Validation dataset: processed\\uTHCD\\testFound 18190 images belonging to 155 classes.\n"
     ]
    }
   ],
   "source": [
    "train_datagen = ImageDataGenerator(\n",
    "    rescale=1./255\n",
    ")\n",
    "\n",
    "test_datagen = ImageDataGenerator(rescale=1./255)\n",
    "\n",
    "print(f'For Training dataset from {train_data_dir}: ', end='')\n",
    "train_generator = train_datagen.flow_from_directory(\n",
    "    train_data_dir,\n",
    "    target_size=target_size,\n",
    "    color_mode='grayscale',\n",
    "    batch_size=32,\n",
    "    class_mode='categorical'\n",
    ")\n",
    "\n",
    "print(f'For Testing dataset from {valid_data_dir}: ', end='')\n",
    "validation_generator = test_datagen.flow_from_directory(\n",
    "    valid_data_dir,\n",
    "    target_size=target_size,\n",
    "    color_mode='grayscale',\n",
    "    batch_size=32,\n",
    "    class_mode='categorical'\n",
    ")\n",
    "\n",
    "print(f'For Validation dataset: {test_data_dir}', end='')\n",
    "test_generator = test_datagen.flow_from_directory(\n",
    "    valid_data_dir,\n",
    "    target_size=target_size,\n",
    "    color_mode='grayscale',\n",
    "    batch_size=32,\n",
    "    class_mode='categorical'\n",
    ")"
   ]
  },
  {
   "cell_type": "code",
   "execution_count": 13,
   "metadata": {},
   "outputs": [],
   "source": [
    "def show_training_performance(history):\n",
    "    \"\"\" Plots Accuracy and Loss of Traning and Validation over epochs. \"\"\"\n",
    "    acc = history.history[\"accuracy\"]\n",
    "    val_acc = history.history[\"val_accuracy\"]\n",
    "    loss = history.history[\"loss\"]\n",
    "    val_loss = history.history[\"val_loss\"]\n",
    "    epochs = range(1, len(acc) + 1)\n",
    "\n",
    "    fig, axes = plt.subplots(1, 2, figsize=(16, 6))\n",
    "\n",
    "    axes[0].plot(epochs, acc, \"b\", label=\"Training accuracy\")\n",
    "    axes[0].plot(epochs, val_acc, \"r\", label=\"Validation accuracy\")\n",
    "    axes[0].set_title(\"Accuracy\", fontsize=18)\n",
    "    axes[0].legend()\n",
    "\n",
    "    axes[1].plot(epochs, loss, \"b\", label=\"Training loss\")\n",
    "    axes[1].plot(epochs, val_loss, \"r\", label=\"Validation loss\")\n",
    "    axes[1].set_title(\"Loss\", fontsize=18)\n",
    "    axes[1].legend()\n",
    "    plt.suptitle('Training vs. Validation', fontsize=25)\n",
    "    plt.show()"
   ]
  },
  {
   "cell_type": "markdown",
   "metadata": {},
   "source": [
    "### HCRT Model for individual character"
   ]
  },
  {
   "cell_type": "code",
   "execution_count": 19,
   "metadata": {},
   "outputs": [
    {
     "name": "stdout",
     "output_type": "stream",
     "text": [
      "For Training dataset from processed\\uTHCD\\train: Found 69615 images belonging to 156 classes.\n",
      "For Validating dataset from processed\\uTHCD\\validation: Found 12285 images belonging to 156 classes.\n",
      "For Testing dataset: processed\\uTHCD\\test: Found 9050 images belonging to 156 classes.\n",
      "Model: \"model_1\"\n",
      "_________________________________________________________________\n",
      " Layer (type)                Output Shape              Param #   \n",
      "=================================================================\n",
      " input_2 (InputLayer)        [(None, 64, 64, 1)]       0         \n",
      "                                                                 \n",
      " conv2d_4 (Conv2D)           (None, 62, 62, 8)         80        \n",
      "                                                                 \n",
      " batch_normalization_4 (Batc  (None, 62, 62, 8)        32        \n",
      " hNormalization)                                                 \n",
      "                                                                 \n",
      " max_pooling2d_3 (MaxPooling  (None, 31, 31, 8)        0         \n",
      " 2D)                                                             \n",
      "                                                                 \n",
      " dropout_2 (Dropout)         (None, 31, 31, 8)         0         \n",
      "                                                                 \n",
      " conv2d_5 (Conv2D)           (None, 29, 29, 16)        1168      \n",
      "                                                                 \n",
      " batch_normalization_5 (Batc  (None, 29, 29, 16)       64        \n",
      " hNormalization)                                                 \n",
      "                                                                 \n",
      " max_pooling2d_4 (MaxPooling  (None, 14, 14, 16)       0         \n",
      " 2D)                                                             \n",
      "                                                                 \n",
      " conv2d_6 (Conv2D)           (None, 12, 12, 32)        4640      \n",
      "                                                                 \n",
      " batch_normalization_6 (Batc  (None, 12, 12, 32)       128       \n",
      " hNormalization)                                                 \n",
      "                                                                 \n",
      " max_pooling2d_5 (MaxPooling  (None, 6, 6, 32)         0         \n",
      " 2D)                                                             \n",
      "                                                                 \n",
      " conv2d_7 (Conv2D)           (None, 4, 4, 32)          9248      \n",
      "                                                                 \n",
      " batch_normalization_7 (Batc  (None, 4, 4, 32)         128       \n",
      " hNormalization)                                                 \n",
      "                                                                 \n",
      " flatten_1 (Flatten)         (None, 512)               0         \n",
      "                                                                 \n",
      " dense_2 (Dense)             (None, 256)               131328    \n",
      "                                                                 \n",
      " dropout_3 (Dropout)         (None, 256)               0         \n",
      "                                                                 \n",
      " dense_3 (Dense)             (None, 156)               40092     \n",
      "                                                                 \n",
      "=================================================================\n",
      "Total params: 186,908\n",
      "Trainable params: 186,732\n",
      "Non-trainable params: 176\n",
      "_________________________________________________________________\n"
     ]
    }
   ],
   "source": [
    "# Data Augmentation\n",
    "train_datagen = ImageDataGenerator(\n",
    "    rescale=1./255,\n",
    "    rotation_range=7,\n",
    "    zoom_range=0.2,\n",
    "    fill_mode='nearest'\n",
    ")\n",
    "\n",
    "test_datagen = ImageDataGenerator(rescale=1./255)\n",
    "\n",
    "# Batch Size\n",
    "batch_size = 32\n",
    "\n",
    "# Generators\n",
    "print(f'For Training dataset from {train_data_dir}: ', end='')\n",
    "train_generator = train_datagen.flow_from_directory(\n",
    "    train_data_dir,\n",
    "    target_size=target_size,\n",
    "    color_mode='grayscale',\n",
    "    batch_size=batch_size,\n",
    "    class_mode='categorical'\n",
    ")\n",
    "\n",
    "print(f'For Validating dataset from {valid_data_dir}: ', end='')\n",
    "validation_generator = test_datagen.flow_from_directory(\n",
    "    valid_data_dir,\n",
    "    target_size=target_size,\n",
    "    color_mode='grayscale',\n",
    "    batch_size=batch_size,\n",
    "    class_mode='categorical'\n",
    ")\n",
    "\n",
    "print(f'For Testing dataset: {test_data_dir}: ', end='')\n",
    "test_generator = test_datagen.flow_from_directory(\n",
    "    test_data_dir,\n",
    "    target_size=target_size,\n",
    "    color_mode='grayscale',\n",
    "    batch_size=batch_size,\n",
    "    class_mode='categorical'\n",
    ")\n",
    "\n",
    "# Model with Batch Normalization and He Uniform Initialization\n",
    "inputs = keras.Input(shape=(*target_size, 1))\n",
    "# x = layers.Rescaling(1./255)(inputs)\n",
    "x = layers.Conv2D(filters=8, kernel_size=3, activation=\"relu\", kernel_initializer=initializers.he_uniform(seed=10))(inputs)\n",
    "x = layers.BatchNormalization()(x)\n",
    "x = layers.MaxPooling2D(pool_size=2)(x)\n",
    "x = layers.Dropout(0.5)(x)\n",
    "x = layers.Conv2D(filters=16, kernel_size=3, activation=\"relu\", kernel_initializer=initializers.he_uniform(seed=10))(x)\n",
    "x = layers.BatchNormalization()(x)\n",
    "x = layers.MaxPooling2D(pool_size=2)(x)\n",
    "x = layers.Conv2D(filters=32, kernel_size=3, activation=\"relu\", kernel_initializer=initializers.he_uniform(seed=10))(x)\n",
    "x = layers.BatchNormalization()(x)\n",
    "\n",
    "x = layers.MaxPooling2D(pool_size=2)(x)\n",
    "x = layers.Conv2D(filters=32, kernel_size=3, activation=\"relu\", kernel_initializer=initializers.he_uniform(seed=10))(x)\n",
    "x = layers.BatchNormalization()(x)\n",
    "\n",
    "x = layers.Flatten()(x)\n",
    "x = layers.Dense(256, activation='relu', kernel_initializer=initializers.he_uniform(seed=10))(x)\n",
    "x = layers.Dropout(0.5)(x)\n",
    "outputs = layers.Dense(156, activation='softmax')(x)\n",
    "\n",
    "base_model = keras.Model(inputs, outputs)\n",
    "base_model.summary()"
   ]
  },
  {
   "cell_type": "code",
   "execution_count": 20,
   "metadata": {},
   "outputs": [],
   "source": [
    "model_name = f'model_with_uthcd_{datetime.now().strftime(\"%Y%m%d%H%M\")}'\n",
    "# Compilation\n",
    "optimizer = keras.optimizers.Adam(learning_rate=0.0001)  # Adjust the learning rate\n",
    "base_model.compile(\n",
    "    optimizer=optimizer,\n",
    "    loss='categorical_crossentropy',\n",
    "    metrics=['accuracy']\n",
    ")\n",
    "\n",
    "# Callbacks\n",
    "callbacks = [\n",
    "    keras.callbacks.ModelCheckpoint(\n",
    "      filepath=f'./models/final/{model_name}.keras',\n",
    "      save_best_only=True,\n",
    "      monitor='val_loss'),\n",
    "    keras.callbacks.EarlyStopping(monitor='val_loss', patience=10, restore_best_weights=True)\n",
    "]"
   ]
  },
  {
   "cell_type": "code",
   "execution_count": 21,
   "metadata": {},
   "outputs": [
    {
     "name": "stdout",
     "output_type": "stream",
     "text": [
      "Model name: model_with_uthcd_202404092038\n",
      "Epoch 1/24\n",
      "2176/2176 [==============================] - 392s 180ms/step - loss: 4.4375 - accuracy: 0.1083 - val_loss: 2.4425 - val_accuracy: 0.4742\n",
      "Epoch 2/24\n",
      "2176/2176 [==============================] - 41s 19ms/step - loss: 2.6522 - accuracy: 0.3623 - val_loss: 1.3775 - val_accuracy: 0.6741\n",
      "Epoch 3/24\n",
      "2176/2176 [==============================] - 41s 19ms/step - loss: 1.8604 - accuracy: 0.5191 - val_loss: 0.9392 - val_accuracy: 0.7579\n",
      "Epoch 4/24\n",
      "2176/2176 [==============================] - 43s 20ms/step - loss: 1.4514 - accuracy: 0.6100 - val_loss: 0.7311 - val_accuracy: 0.8007\n",
      "Epoch 5/24\n",
      "2176/2176 [==============================] - 44s 20ms/step - loss: 1.2034 - accuracy: 0.6682 - val_loss: 0.5982 - val_accuracy: 0.8337\n",
      "Epoch 6/24\n",
      "2176/2176 [==============================] - 44s 20ms/step - loss: 1.0444 - accuracy: 0.7055 - val_loss: 0.5210 - val_accuracy: 0.8527\n",
      "Epoch 7/24\n",
      "2176/2176 [==============================] - 41s 19ms/step - loss: 0.9248 - accuracy: 0.7345 - val_loss: 0.4608 - val_accuracy: 0.8659\n",
      "Epoch 8/24\n",
      "2176/2176 [==============================] - 40s 19ms/step - loss: 0.8416 - accuracy: 0.7584 - val_loss: 0.4168 - val_accuracy: 0.8803\n",
      "Epoch 9/24\n",
      "2176/2176 [==============================] - 40s 19ms/step - loss: 0.7725 - accuracy: 0.7731 - val_loss: 0.3857 - val_accuracy: 0.8896\n",
      "Epoch 10/24\n",
      "2176/2176 [==============================] - 40s 18ms/step - loss: 0.7192 - accuracy: 0.7881 - val_loss: 0.3625 - val_accuracy: 0.8939\n",
      "Epoch 11/24\n",
      "2176/2176 [==============================] - 41s 19ms/step - loss: 0.6720 - accuracy: 0.8007 - val_loss: 0.3390 - val_accuracy: 0.9006\n",
      "Epoch 12/24\n",
      "2176/2176 [==============================] - 41s 19ms/step - loss: 0.6338 - accuracy: 0.8118 - val_loss: 0.3230 - val_accuracy: 0.9083\n",
      "Epoch 13/24\n",
      "2176/2176 [==============================] - 41s 19ms/step - loss: 0.6043 - accuracy: 0.8197 - val_loss: 0.3122 - val_accuracy: 0.9088\n",
      "Epoch 14/24\n",
      "2176/2176 [==============================] - 41s 19ms/step - loss: 0.5752 - accuracy: 0.8287 - val_loss: 0.2962 - val_accuracy: 0.9138\n",
      "Epoch 15/24\n",
      "2176/2176 [==============================] - 40s 18ms/step - loss: 0.5507 - accuracy: 0.8348 - val_loss: 0.2873 - val_accuracy: 0.9179\n",
      "Epoch 16/24\n",
      "2176/2176 [==============================] - 42s 19ms/step - loss: 0.5317 - accuracy: 0.8409 - val_loss: 0.2746 - val_accuracy: 0.9207\n",
      "Epoch 17/24\n",
      "2176/2176 [==============================] - 43s 20ms/step - loss: 0.5087 - accuracy: 0.8447 - val_loss: 0.2693 - val_accuracy: 0.9205\n",
      "Epoch 18/24\n",
      "2176/2176 [==============================] - 41s 19ms/step - loss: 0.4930 - accuracy: 0.8507 - val_loss: 0.2587 - val_accuracy: 0.9237\n",
      "Epoch 19/24\n",
      "2176/2176 [==============================] - 41s 19ms/step - loss: 0.4795 - accuracy: 0.8558 - val_loss: 0.2512 - val_accuracy: 0.9268\n",
      "Epoch 20/24\n",
      "2176/2176 [==============================] - 41s 19ms/step - loss: 0.4619 - accuracy: 0.8586 - val_loss: 0.2509 - val_accuracy: 0.9279\n",
      "Epoch 21/24\n",
      "2176/2176 [==============================] - 41s 19ms/step - loss: 0.4549 - accuracy: 0.8604 - val_loss: 0.2416 - val_accuracy: 0.9298\n",
      "Epoch 22/24\n",
      "2176/2176 [==============================] - 41s 19ms/step - loss: 0.4423 - accuracy: 0.8651 - val_loss: 0.2375 - val_accuracy: 0.9303\n",
      "Epoch 23/24\n",
      "2176/2176 [==============================] - 41s 19ms/step - loss: 0.4293 - accuracy: 0.8682 - val_loss: 0.2305 - val_accuracy: 0.9327\n",
      "Epoch 24/24\n",
      "2176/2176 [==============================] - 41s 19ms/step - loss: 0.4196 - accuracy: 0.8703 - val_loss: 0.2297 - val_accuracy: 0.9328\n"
     ]
    }
   ],
   "source": [
    "print(f'Model name: {model_name}')\n",
    "# Training\n",
    "history = base_model.fit(\n",
    "    train_generator,\n",
    "    epochs=24,\n",
    "    batch_size=batch_size,\n",
    "    validation_data=validation_generator,\n",
    "    callbacks=callbacks\n",
    ")\n"
   ]
  },
  {
   "cell_type": "code",
   "execution_count": 22,
   "metadata": {},
   "outputs": [
    {
     "data": {
      "image/png": "[encoded data removed]",
      "text/plain": [
       "<Figure size 1600x600 with 2 Axes>"
      ]
     },
     "metadata": {},
     "output_type": "display_data"
    }
   ],
   "source": [
    "show_training_performance(history)"
   ]
  },
  {
   "cell_type": "markdown",
   "metadata": {},
   "source": [
    "---"
   ]
  },
  {
   "cell_type": "markdown",
   "metadata": {},
   "source": [
    "### Prediction"
   ]
  },
  {
   "cell_type": "code",
   "execution_count": null,
   "metadata": {},
   "outputs": [],
   "source": [
    "label_map = {v: k for k, v in train_generator.class_indices.items()}\n",
    "\n",
    "# df_lbl_map = pd.DataFrame(label_map.values(), index=label_map.keys())\n",
    "# df_lbl_map.to_csv('label_map.csv')"
   ]
  },
  {
   "cell_type": "code",
   "execution_count": 44,
   "metadata": {},
   "outputs": [],
   "source": [
    "CLASS_MAP = {\n",
    "    0: 'ா',\n",
    "    1: 'அ',\n",
    "    2: 'ஆ',\n",
    "    3: 'இ',\n",
    "    4: 'ஈ',\n",
    "    5: 'உ',\n",
    "    6: 'ஊ',\n",
    "    7: 'எ',\n",
    "    8: 'ஏ',\n",
    "    9: 'ஐ',\n",
    "    10: 'ஒ',\n",
    "    11: 'ஓ',\n",
    "    12: 'ஔ',\n",
    "    13: 'ஃ',\n",
    "    14: 'க்',\n",
    "    15: 'க',\n",
    "    16: 'கி',\n",
    "    17: 'கீ',\n",
    "    18: 'கு',\n",
    "    19: 'கூ',\n",
    "    20: 'ச்',\n",
    "    21: 'ச',\n",
    "    22: 'சி',\n",
    "    23: 'சீ',\n",
    "    24: 'சு',\n",
    "    25: 'சூ',\n",
    "    26: 'ங்',\n",
    "    27: 'ங',\n",
    "    28: 'ஙி',\n",
    "    29: 'ஙீ',\n",
    "    30: 'ஙு',\n",
    "    31: 'ஙூ',\n",
    "    32: 'ஞ்',\n",
    "    33: 'ஞ',\n",
    "    34: 'ஞி',\n",
    "    35: 'ஞீ',\n",
    "    36: 'ஞு',\n",
    "    37: 'ஞூ',\n",
    "    38: 'ட்',\n",
    "    39: 'ட',\n",
    "    40: 'டி',\n",
    "    41: 'டீ',\n",
    "    42: 'டு',\n",
    "    43: 'டூ',\n",
    "    44: 'ண்',\n",
    "    45: 'ண',\n",
    "    46: 'ணி',\n",
    "    47: 'ணீ',\n",
    "    48: 'ணு',\n",
    "    49: 'ணூ',\n",
    "    50: 'த்',\n",
    "    51: 'த',\n",
    "    52: 'தி',\n",
    "    53: 'தீ',\n",
    "    54: 'து',\n",
    "    55: 'தூ',\n",
    "    56: 'ந்',\n",
    "    57: 'ந',\n",
    "    58: 'நி',\n",
    "    59: 'நீ',\n",
    "    60: 'நு',\n",
    "    61: 'நூ',\n",
    "    62: 'ப்',\n",
    "    63: 'ப',\n",
    "    64: 'பி',\n",
    "    65: 'பீ',\n",
    "    66: 'பு',\n",
    "    67: 'பூ',\n",
    "    68: 'ம்',\n",
    "    69: 'ம',\n",
    "    70: 'மி',\n",
    "    71: 'மீ',\n",
    "    72: 'மு',\n",
    "    73: 'மூ',\n",
    "    74: 'ய்',\n",
    "    75: 'ய',\n",
    "    76: 'யி',\n",
    "    77: 'யீ',\n",
    "    78: 'யு',\n",
    "    79: 'யூ',\n",
    "    80: 'ர்',\n",
    "    81: 'ர',\n",
    "    82: 'ரி',\n",
    "    83: 'ரீ',\n",
    "    84: 'ரு',\n",
    "    85: 'ரூ',\n",
    "    86: 'ல்',\n",
    "    87: 'ல',\n",
    "    88: 'லி',\n",
    "    89: 'லீ',\n",
    "    90: 'லு',\n",
    "    91: 'லூ',\n",
    "    92: 'ள்',\n",
    "    93: 'ள',\n",
    "    94: 'ளி',\n",
    "    95: 'ளீ',\n",
    "    96: 'ளு',\n",
    "    97: 'ளூ ',\n",
    "    98: 'ற்',\n",
    "    99: 'ற',\n",
    "    100: 'றி',\n",
    "    101: 'றீ',\n",
    "    102: 'று',\n",
    "    103: 'றூ ',\n",
    "    104: 'வ்',\n",
    "    105: 'வ',\n",
    "    106: 'வி',\n",
    "    107: 'வீ',\n",
    "    108: 'வு',\n",
    "    109: 'வூ ',\n",
    "    110: 'ழ்',\n",
    "    111: 'ழ',\n",
    "    112: 'ழி',\n",
    "    113: 'ழீ',\n",
    "    114: 'ழு',\n",
    "    115: 'ழூ ',\n",
    "    116: 'ன்',\n",
    "    117: 'ன',\n",
    "    118: 'னி',\n",
    "    119: 'னீ',\n",
    "    120: 'னு',\n",
    "    121: 'ஷி',\n",
    "    122: 'ஷீ',\n",
    "    123: 'ஷு',\n",
    "    124: 'ஷூ',\n",
    "    125: 'க்ஷ',\n",
    "    126: 'க்ஷ்',\n",
    "    127: 'க்ஷி',\n",
    "    128: 'க்ஷீ',\n",
    "    129: 'ஜு',\n",
    "    130: 'ஜூ',\n",
    "    131: 'ஹ',\n",
    "    132: 'ஹ்',\n",
    "    133: 'ஹி',\n",
    "    134: 'ஹீ',\n",
    "    135: 'ஹு',\n",
    "    136: 'ஹூ',\n",
    "    137: 'ஸ',\n",
    "    138: 'ஸ்',\n",
    "    139: 'ஸி',\n",
    "    140: 'ஸீ',\n",
    "    141: 'ஸு',\n",
    "    142: 'ஸூ',\n",
    "    143: 'ஷ',\n",
    "    144: 'ஷ்',\n",
    "    145: 'னூ',\n",
    "    146: 'ஸ்ரீ',\n",
    "    147: 'க்ஷூ ',\n",
    "    148: 'ஜ',\n",
    "    149: 'ஜ்',\n",
    "    150: 'ஜி',\n",
    "    151: 'ஜீ',\n",
    "    152: 'க்ஷு',\n",
    "    153: 'ெ',\n",
    "    154: 'ே',\n",
    "    155: 'ை'\n",
    "}"
   ]
  },
  {
   "cell_type": "code",
   "execution_count": 51,
   "metadata": {},
   "outputs": [],
   "source": [
    "def predict(test_img_path, label_map=label_map):\n",
    "    image = load_img(test_img_path, color_mode='grayscale', target_size=target_size)\n",
    "\n",
    "    # Convert the image to a numpy array and scale the pixel values\n",
    "    image_array = img_to_array(image) / 255.0\n",
    "\n",
    "    # Add an extra dimension to the array to represent the batch size\n",
    "    # The model expects a batch of images as input, even if you're only predicting one\n",
    "    image_array = np.expand_dims(image_array, axis=0)\n",
    "\n",
    "    # Predict the class of the image\n",
    "    predictions = base_model.predict(image_array, verbose=0)\n",
    "\n",
    "    # Assuming your model outputs probabilities for each class, \n",
    "    # you can determine the most likely class like this:\n",
    "    predicted_class = np.argmax(predictions, axis=1)\n",
    "\n",
    "    predicted_label_name = label_map[predicted_class[0]]\n",
    "\n",
    "    return predicted_label_name"
   ]
  },
  {
   "cell_type": "code",
   "execution_count": 84,
   "metadata": {},
   "outputs": [],
   "source": [
    "def predict_and_display(test_img_path, label_map=label_map):\n",
    "    predicted_label_name = predict(test_img_path, label_map)\n",
    "    print(f\"Predicted character: {CLASS_MAP.get(int(predicted_label_name), '')} \\t class: {predicted_label_name}\")\n",
    "    image = load_img(test_img_path, color_mode='grayscale', target_size=target_size)\n",
    "    display(image)"
   ]
  },
  {
   "cell_type": "code",
   "execution_count": 85,
   "metadata": {},
   "outputs": [
    {
     "name": "stdout",
     "output_type": "stream",
     "text": [
      "Predicted character: கு \t class: 18\n"
     ]
    },
    {
     "data": {
      "image/jpeg": "[encoded data removed]",
      "image/png": "[encoded data removed]",
      "text/plain": [
       "<PIL.BmpImagePlugin.BmpImageFile image mode=L size=64x64>"
      ]
     },
     "metadata": {},
     "output_type": "display_data"
    },
    {
     "name": "stdout",
     "output_type": "stream",
     "text": [
      "Predicted character: ஒ \t class: 10\n"
     ]
    },
    {
     "data": {
      "image/jpeg": "[encoded data removed]",
      "image/png": "[encoded data removed]",
      "text/plain": [
       "<PIL.BmpImagePlugin.BmpImageFile image mode=L size=64x64>"
      ]
     },
     "metadata": {},
     "output_type": "display_data"
    },
    {
     "name": "stdout",
     "output_type": "stream",
     "text": [
      "Predicted character: தி \t class: 52\n"
     ]
    },
    {
     "data": {
      "image/jpeg": "[encoded data removed]",
      "image/png": "[encoded data removed]",
      "text/plain": [
       "<PIL.BmpImagePlugin.BmpImageFile image mode=L size=64x64>"
      ]
     },
     "metadata": {},
     "output_type": "display_data"
    },
    {
     "name": "stdout",
     "output_type": "stream",
     "text": [
      "Predicted character: ம \t class: 69\n"
     ]
    },
    {
     "data": {
      "image/jpeg": "[encoded data removed]",
      "image/png": "[encoded data removed]",
      "text/plain": [
       "<PIL.BmpImagePlugin.BmpImageFile image mode=L size=64x64>"
      ]
     },
     "metadata": {},
     "output_type": "display_data"
    },
    {
     "name": "stdout",
     "output_type": "stream",
     "text": [
      "Predicted character: னூ \t class: 145\n"
     ]
    },
    {
     "data": {
      "image/jpeg": "[encoded data removed]",
      "image/png": "[encoded data removed]",
      "text/plain": [
       "<PIL.BmpImagePlugin.BmpImageFile image mode=L size=64x64>"
      ]
     },
     "metadata": {},
     "output_type": "display_data"
    },
    {
     "name": "stdout",
     "output_type": "stream",
     "text": [
      "Predicted character: ே \t class: 154\n"
     ]
    },
    {
     "data": {
      "image/jpeg": "[encoded data removed]",
      "image/png": "[encoded data removed]",
      "text/plain": [
       "<PIL.BmpImagePlugin.BmpImageFile image mode=L size=64x64>"
      ]
     },
     "metadata": {},
     "output_type": "display_data"
    },
    {
     "name": "stdout",
     "output_type": "stream",
     "text": [
      "Predicted character: ப \t class: 63\n"
     ]
    },
    {
     "data": {
      "image/jpeg": "[encoded data removed]",
      "image/png": "[encoded data removed]",
      "text/plain": [
       "<PIL.BmpImagePlugin.BmpImageFile image mode=L size=64x64>"
      ]
     },
     "metadata": {},
     "output_type": "display_data"
    },
    {
     "name": "stdout",
     "output_type": "stream",
     "text": [
      "Predicted character: ா \t class: 0\n"
     ]
    },
    {
     "data": {
      "image/jpeg": "[encoded data removed]",
      "image/png": "[encoded data removed]",
      "text/plain": [
       "<PIL.BmpImagePlugin.BmpImageFile image mode=L size=64x64>"
      ]
     },
     "metadata": {},
     "output_type": "display_data"
    },
    {
     "name": "stdout",
     "output_type": "stream",
     "text": [
      "Predicted character: ரி \t class: 82\n"
     ]
    },
    {
     "data": {
      "image/jpeg": "[encoded data removed]",
      "image/png": "[encoded data removed]",
      "text/plain": [
       "<PIL.BmpImagePlugin.BmpImageFile image mode=L size=64x64>"
      ]
     },
     "metadata": {},
     "output_type": "display_data"
    },
    {
     "name": "stdout",
     "output_type": "stream",
     "text": [
      "Predicted character: ல் \t class: 86\n"
     ]
    },
    {
     "data": {
      "image/jpeg": "[encoded data removed]",
      "image/png": "[encoded data removed]",
      "text/plain": [
       "<PIL.BmpImagePlugin.BmpImageFile image mode=L size=64x64>"
      ]
     },
     "metadata": {},
     "output_type": "display_data"
    }
   ],
   "source": [
    "test_images = [\n",
    "    os.path.join(test_data_dir, '18', '91s_018.bmp'),\n",
    "    os.path.join(test_data_dir, '10', '80s_010.bmp'),\n",
    "    os.path.join(test_data_dir, '52', '69s_052.bmp'),\n",
    "    os.path.join(test_data_dir, '69', '0313_069.bmp'),\n",
    "    os.path.join(test_data_dir, '145', '9s_145.bmp'),\n",
    "    os.path.join(test_data_dir, '154', '91s_154.bmp'),\n",
    "    os.path.join(test_data_dir, '63', '80s_063.bmp'),\n",
    "    os.path.join(test_data_dir, '0', '72s_000.bmp'),\n",
    "    os.path.join(test_data_dir, '82', '0340_082.bmp'),\n",
    "    os.path.join(test_data_dir, '86', '70s_086.bmp'),\n",
    "]\n",
    "\n",
    "for img in test_images:\n",
    "    predict_and_display(img, label_map)"
   ]
  },
  {
   "cell_type": "markdown",
   "metadata": {},
   "source": [
    "### Statistical Analysis"
   ]
  },
  {
   "cell_type": "code",
   "execution_count": 60,
   "metadata": {},
   "outputs": [
    {
     "name": "stdout",
     "output_type": "stream",
     "text": [
      "10\n"
     ]
    }
   ],
   "source": [
    "print(len(test_images))"
   ]
  },
  {
   "cell_type": "code",
   "execution_count": 67,
   "metadata": {},
   "outputs": [
    {
     "data": {
      "text/plain": [
       "['18', '10', '52', '69', '145', '154', '63', '0', '82', '86']"
      ]
     },
     "execution_count": 67,
     "metadata": {},
     "output_type": "execute_result"
    }
   ],
   "source": [
    "[predict(img) for img in test_images]"
   ]
  },
  {
   "cell_type": "code",
   "execution_count": 68,
   "metadata": {},
   "outputs": [
    {
     "name": "stdout",
     "output_type": "stream",
     "text": [
      "646 ms ± 16.6 ms per loop (mean ± std. dev. of 7 runs, 1 loop each)\n"
     ]
    }
   ],
   "source": [
    "%%timeit\n",
    "[predict(img) for img in test_images]"
   ]
  },
  {
   "cell_type": "code",
   "execution_count": 70,
   "metadata": {},
   "outputs": [
    {
     "name": "stdout",
     "output_type": "stream",
     "text": [
      "The HCRT model for character identification is taking 64.6 ms for a character\n"
     ]
    }
   ],
   "source": [
    "avg_time_per_character = 646 / len(test_images)\n",
    "print(f'The HCRT model for character identification is taking {avg_time_per_character} ms for a character')"
   ]
  },
  {
   "cell_type": "code",
   "execution_count": 71,
   "metadata": {},
   "outputs": [],
   "source": [
    "# The approximate characters per line is 30 and lines per page in the legal documents is 20\n",
    "characters_per_page = 30 * 20"
   ]
  },
  {
   "cell_type": "code",
   "execution_count": 73,
   "metadata": {},
   "outputs": [],
   "source": [
    "# The sample number of pages and time taken (in mins) for manually transcribed document\n",
    "manually_transcribed = [\n",
    "    ('Document 1', 16, 180),\n",
    "    ('Document 2', 20, 240),\n",
    "    ('Document 3', 19, 250),\n",
    "    ('Document 4', 32, 300)\n",
    "]\n",
    "manual_df = pd.DataFrame(manually_transcribed, columns=['doc_name', 'pages', 'time_taken'])"
   ]
  },
  {
   "cell_type": "code",
   "execution_count": 78,
   "metadata": {},
   "outputs": [
    {
     "data": {
      "text/html": [
       "<div>\n",
       "<style scoped>\n",
       "    .dataframe tbody tr th:only-of-type {\n",
       "        vertical-align: middle;\n",
       "    }\n",
       "\n",
       "    .dataframe tbody tr th {\n",
       "        vertical-align: top;\n",
       "    }\n",
       "\n",
       "    .dataframe thead th {\n",
       "        text-align: right;\n",
       "    }\n",
       "</style>\n",
       "<table border=\"1\" class=\"dataframe\">\n",
       "  <thead>\n",
       "    <tr style=\"text-align: right;\">\n",
       "      <th></th>\n",
       "      <th>doc_name</th>\n",
       "      <th>pages</th>\n",
       "      <th>time_taken</th>\n",
       "      <th>model_time_taken</th>\n",
       "    </tr>\n",
       "  </thead>\n",
       "  <tbody>\n",
       "    <tr>\n",
       "      <th>0</th>\n",
       "      <td>Document 1</td>\n",
       "      <td>16</td>\n",
       "      <td>180</td>\n",
       "      <td>10.336</td>\n",
       "    </tr>\n",
       "    <tr>\n",
       "      <th>1</th>\n",
       "      <td>Document 2</td>\n",
       "      <td>20</td>\n",
       "      <td>240</td>\n",
       "      <td>12.920</td>\n",
       "    </tr>\n",
       "    <tr>\n",
       "      <th>2</th>\n",
       "      <td>Document 3</td>\n",
       "      <td>19</td>\n",
       "      <td>250</td>\n",
       "      <td>12.274</td>\n",
       "    </tr>\n",
       "    <tr>\n",
       "      <th>3</th>\n",
       "      <td>Document 4</td>\n",
       "      <td>32</td>\n",
       "      <td>300</td>\n",
       "      <td>20.672</td>\n",
       "    </tr>\n",
       "  </tbody>\n",
       "</table>\n",
       "</div>"
      ],
      "text/plain": [
       "     doc_name  pages  time_taken  model_time_taken\n",
       "0  Document 1     16         180            10.336\n",
       "1  Document 2     20         240            12.920\n",
       "2  Document 3     19         250            12.274\n",
       "3  Document 4     32         300            20.672"
      ]
     },
     "execution_count": 78,
     "metadata": {},
     "output_type": "execute_result"
    }
   ],
   "source": [
    "manual_df['model_time_taken'] = manual_df['pages'] * characters_per_page * avg_time_per_character / (60 * 1000)\n",
    "manual_df"
   ]
  },
  {
   "cell_type": "markdown",
   "metadata": {},
   "source": [
    "### Paired t-test"
   ]
  },
  {
   "cell_type": "code",
   "execution_count": 79,
   "metadata": {},
   "outputs": [
    {
     "name": "stdout",
     "output_type": "stream",
     "text": [
      "T-Statistic:\t10.105775422977795\n",
      "P-Value:\t0.0020637678772826924\n"
     ]
    }
   ],
   "source": [
    "from scipy.stats import ttest_rel\n",
    "\n",
    "t_stat, p_value = ttest_rel(manual_df['time_taken'], manual_df['model_time_taken'])\n",
    "\n",
    "print(f'T-Statistic:\\t{t_stat}')\n",
    "print(f'P-Value:\\t{p_value}')"
   ]
  },
  {
   "cell_type": "markdown",
   "metadata": {},
   "source": [
    "### Hypothesis Evaluation"
   ]
  },
  {
   "cell_type": "code",
   "execution_count": 80,
   "metadata": {},
   "outputs": [
    {
     "name": "stdout",
     "output_type": "stream",
     "text": [
      "Null hypothesis is rejected.\n",
      "The HCRT model significantly reduces the transcription time.\n"
     ]
    }
   ],
   "source": [
    "if p_value < 0.05:\n",
    "    print('Null hypothesis is rejected.\\nThe HCRT model significantly reduces the transcription time.')\n",
    "else:\n",
    "    print('Unable to reject the Null hypothesis.\\nThe HCRT model does not significantly reduce the transcription time.')"
   ]
  },
  {
   "cell_type": "markdown",
   "metadata": {},
   "source": [
    "---"
   ]
  },
  {
   "cell_type": "code",
   "execution_count": 92,
   "metadata": {},
   "outputs": [],
   "source": [
    "base_model.save(f'./models/final/model_with_uthcd_checkpoint.h5', save_format='tf')\n",
    "base_model.save_weights(f'./models/final/model_with_uthcd_weights.ckpt')\n"
   ]
  }
 ],
 "metadata": {
  "kernelspec": {
   "display_name": "wsl_env",
   "language": "python",
   "name": "python3"
  },
  "language_info": {
   "codemirror_mode": {
    "name": "ipython",
    "version": 3
   },
   "file_extension": ".py",
   "mimetype": "text/x-python",
   "name": "python",
   "nbconvert_exporter": "python",
   "pygments_lexer": "ipython3",
   "version": "3.10.0"
  }
 },
 "nbformat": 4,
 "nbformat_minor": 2
}
